{
 "cells": [
  {
   "attachments": {},
   "cell_type": "markdown",
   "metadata": {},
   "source": [
    "1) Bate papo e tira dúvidas sobre DF\n",
    "2) Resolução de exercícios 4 e 5 da lista da aula 5\n",
    "3) Matéria nova"
   ]
  },
  {
   "attachments": {},
   "cell_type": "markdown",
   "metadata": {},
   "source": [
    "# Árvores\n",
    "\n",
    "\n",
    "## O que é uma árvore?\n",
    "\n",
    "> Estrutura de dados definida por uma coleção de elementos (os nós) conectados entre si que modelam relações hierárquicas. Em outras palavras, mantendo as seguintes propriedades:\n",
    "\n",
    "- Existe um nó específico, chamado raiz, que fica no topo da hierarquia\n",
    "- Todo nó é conectado a raiz por um único caminho\n",
    "\n",
    "\n",
    "> Uma árvore é um grafo sem ciclos, que possui ligação entre quaisquer 2 nós seus através de um único caminho e mantém uma noção de hierarquia entre seus membros.\n",
    "\n",
    "\n",
    "&nbsp;\n",
    "\n",
    "Árvores são aplicadas em diversas áreas além da matemática e da computação. Por exemplo, a [árvore filogenética](https://pt.wikipedia.org/wiki/%C3%81rvore_filogen%C3%A9tica) que agrupa espécies de acordo com suas relações evolutivas. \n",
    "\n",
    "<img src=\"https://upload.wikimedia.org/wikipedia/commons/thumb/7/70/Phylogenetic_tree.svg/langpt-1024px-Phylogenetic_tree.svg.png\" width=600 style=\"background: white\">\n",
    "\n",
    "&nbsp;\n",
    "\n",
    "Um organograma empresarial, que também é um exemplo de árvore:\n",
    "\n",
    "<img src=\"https://www.nibo.com.br/wp-content/uploads/2014/12/organograma_tradicional-1024x554.jpg\" width=600>\n",
    "\n",
    "Há apenas **um caminho** entre o presidente (a raiz) e cada um dos demais nós.\n",
    "\n",
    "O caminho do \"presidente\" até o \"auxiliar de marketing\", seria:\n",
    "\n",
    "`\"presidente\"-> \"diretor comercial\"-> \"gerente de marketing\"-> \"auxiliar de marketing\".`\n"
   ]
  },
  {
   "attachments": {},
   "cell_type": "markdown",
   "metadata": {},
   "source": [
    "## Terminologia\n",
    "\n",
    "Para falarmos desta estrutura, definir e analisar algoritmos sobre ela, é necessário nomearmos algumas partes específicas sobre as quais faremos referência posteriormente.\n",
    "\n",
    "<img src=\"https://s3-sa-east-1.amazonaws.com/lcpi/8dfbec82-e81b-43da-8867-0f27cf6cd44f.png\" width=600>\n",
    "\n",
    "Algumas definições tomando como exemplo a figura acima:\n",
    "\n",
    "- Quando um nó A está diretamente acima de um nó B, dizemos que A é `pai` de B ou que B é `filho` de A.\n",
    "- `Raiz` é o topo da hierarquia (A)\n",
    "- `Folhas` são os nós na camada mais baixa da hierarquia, os nós que não têm filhos (H, I, F, G)\n",
    "- `Nós internos` são os nós que não são folhas nem raiz (B, C, D, E)\n",
    "- `Altura` da árvore (`h`): é a distância entre a raiz e a folha mais afastada\n",
    "- De acordo com a definição, `um único nó, sozinho, também é uma árvore`\n",
    "- Toda sub-árvore é árvore (estrutura recursiva)\n",
    "- Todo nó, exceto a raiz, tem exatamente um nó pai\n",
    "\n",
    "\n"
   ]
  },
  {
   "attachments": {},
   "cell_type": "markdown",
   "metadata": {},
   "source": [
    "### Tipos de árvores\n",
    "\n",
    "- Árvores genéricas\n",
    "  - Árvores genéricas\n",
    "  - Árvores Binárias\n",
    "  \n",
    "&nbsp;\n",
    "\n",
    "- Árvores Binárias de Busca\n",
    "  - Árvores Binárias de Busca\n",
    "  - Árvores Binárias de Partilha (versão melhorada da árvore binária de busca)\n",
    "\n",
    "&nbsp;\n",
    "\n",
    "- Árvores balanceadas\n",
    "  - Árvores AVL\n",
    "  - Árvores Graduadas / Rubro Negras\n",
    "  - Árvores B"
   ]
  },
  {
   "attachments": {},
   "cell_type": "markdown",
   "metadata": {},
   "source": [
    "### Árvore Binária de Busca (Binary Search Tree)\n",
    "\n",
    "Tipo específico de árvore. \n",
    "Além das propriedades básicas de uma árvore, também precisa satisfazer as seguintes:\n",
    "\n",
    "- Todo nó tem no máximo dois filhos\n",
    "- Para cada nó `n`, `n` é `maior` que todos os nós a sua `esquerda` e `menor` que todos os nós a sua `direita`.\n",
    "\n",
    "&nbsp;\n",
    "\n",
    "Abaixo um exemplo de árvore binária de pesquisa\n",
    "\n",
    "<img src=\"https://s3-sa-east-1.amazonaws.com/lcpi/61af9259-b2d0-444c-bef0-22ae71c0b9f2.png\" width=600>"
   ]
  },
  {
   "attachments": {},
   "cell_type": "markdown",
   "metadata": {},
   "source": [
    "### Implementação\n",
    "\n",
    "Para implementar ela, criamos uma classe nó com três atributos:\n",
    "\n",
    "- conteúdo: o valor útil, qualquer valor ou dado, ou algo que faça referência a um objeto mais complexo\n",
    "- esquerda: referência ao filho à esquerda\n",
    "- direita: referência ao filho à direita\n",
    "\n",
    "A figura acima mostra uma representação dessa implementação."
   ]
  },
  {
   "cell_type": "code",
   "execution_count": null,
   "metadata": {},
   "outputs": [],
   "source": [
    "# Tente implementar ela:\n",
    "    \n",
    "class Arvore:\n",
    "    class No:\n",
    "        def __init__(self, valor: int):\n",
    "            self.valor = valor\n",
    "            self.esquerda = None # São nós\n",
    "            self.direita = None # São nós\n",
    "        \n",
    "        def __repr__(self):\n",
    "            return self.__str__()\n",
    "\n",
    "        def __str__(self):\n",
    "            valor_esquerda = None if self.esquerda is None else self.esquerda.valor\n",
    "            valor_direita = None if self.direita is None else self.direita.valor\n",
    "            return f'{valor_esquerda} | {self.valor} | {valor_direita}'\n",
    "        \n",
    "    \n",
    "    def __init__(self):\n",
    "        self.raiz = None"
   ]
  },
  {
   "cell_type": "code",
   "execution_count": null,
   "metadata": {},
   "outputs": [],
   "source": [
    "# Teste aqui\n",
    "\n",
    "arvore = Arvore()"
   ]
  },
  {
   "cell_type": "code",
   "execution_count": null,
   "metadata": {},
   "outputs": [],
   "source": [
    "arvore"
   ]
  },
  {
   "attachments": {},
   "cell_type": "markdown",
   "metadata": {},
   "source": [
    "Para imprimir a árvore, implemente o método de impressão:"
   ]
  },
  {
   "cell_type": "code",
   "execution_count": null,
   "metadata": {},
   "outputs": [],
   "source": [
    "# class Arvore:\n",
    "#     [...]\n",
    "#\n",
    "#     # método para imprimir a árvore\n",
    "#     def imprimir(self):\n",
    "#         print()\n",
    "#         self.__imprimir(self.raiz, 0)\n",
    "#         print()\n",
    "#\n",
    "#     def __imprimir(self, no, espacos: int):\n",
    "#         if no is None:\n",
    "#             return\n",
    "#\n",
    "#         self.__imprimir(no.direita, espacos + 1)\n",
    "#         i = 0\n",
    "#         while i < espacos:\n",
    "#             print(\"   \", end=\"\")\n",
    "#             i += 1\n",
    "#         print(no.valor, \"\\n\")\n",
    "#         self.__imprimir(no.esquerda, espacos + 1)\n",
    "\n",
    "# Tente implementar ela:\n",
    "    \n",
    "class Arvore:\n",
    "    class No:\n",
    "        def __init__(self, valor: int):\n",
    "            self.valor = valor\n",
    "            self.esquerda = None # São nós\n",
    "            self.direita = None # São nós\n",
    "        \n",
    "        def __repr__(self):\n",
    "            return self.__str__()\n",
    "\n",
    "        def __str__(self):\n",
    "            valor_esquerda = None if self.esquerda is None else self.esquerda.valor\n",
    "            valor_direita = None if self.direita is None else self.direita.valor\n",
    "            return f'{valor_esquerda} | {self.valor} | {valor_direita}'\n",
    "        \n",
    "    \n",
    "    def __init__(self):\n",
    "        self.raiz = None\n",
    "    \n",
    "    # método para imprimir a árvore\n",
    "    def imprimir(self):\n",
    "        print()\n",
    "        self.__imprimir(self.raiz, 0)\n",
    "        print()\n",
    "\n",
    "    def __imprimir(self, no, espacos: int):\n",
    "        if no is None:\n",
    "            return\n",
    "\n",
    "        self.__imprimir(no.direita, espacos + 1)\n",
    "        i = 0\n",
    "        while i < espacos:\n",
    "            print(\"   \", end=\"\")\n",
    "            i += 1\n",
    "        print(no.valor, \"\\n\")\n",
    "        self.__imprimir(no.esquerda, espacos + 1)"
   ]
  },
  {
   "cell_type": "code",
   "execution_count": null,
   "metadata": {},
   "outputs": [],
   "source": [
    "arvore = Arvore()\n",
    "arvore.imprimir()"
   ]
  },
  {
   "cell_type": "markdown",
   "metadata": {},
   "source": [
    "Agora vamos adicionar nós na árvore"
   ]
  },
  {
   "cell_type": "code",
   "execution_count": null,
   "metadata": {},
   "outputs": [],
   "source": [
    "# class Arvore:\n",
    "#     [...]\n",
    "#\n",
    "#     # método para adicionar nó\n",
    "#     def adicionar(self, valor: int):\n",
    "#         self.raiz = self.__adicionar(self.raiz, valor)\n",
    "#\n",
    "#     def __adicionar(self, no: No, valor: int):\n",
    "#         if no is None:\n",
    "#             return self.No(valor)\n",
    "#       \n",
    "#         if valor <= no.valor:\n",
    "#             no.esquerda = self.__adicionar(no.esquerda, valor)\n",
    "#         else:\n",
    "#             no.direita = self.__adicionar(no.direita, valor)\n",
    "#         return no\n",
    "\n",
    "class Arvore:\n",
    "    class No:\n",
    "        def __init__(self, valor: int):\n",
    "            self.valor = valor\n",
    "            self.esquerda = None # São nós\n",
    "            self.direita = None # São nós\n",
    "        \n",
    "        def __repr__(self):\n",
    "            return self.__str__()\n",
    "\n",
    "        def __str__(self):\n",
    "            valor_esquerda = None if self.esquerda is None else self.esquerda.valor\n",
    "            valor_direita = None if self.direita is None else self.direita.valor\n",
    "            return f'{valor_esquerda} | {self.valor} | {valor_direita}'\n",
    "        \n",
    "    \n",
    "    def __init__(self):\n",
    "        self.raiz = None\n",
    "    \n",
    "    # método para imprimir a árvore\n",
    "    def imprimir(self):\n",
    "        print()\n",
    "        self.__imprimir(self.raiz, 0)\n",
    "        print()\n",
    "\n",
    "    def __imprimir(self, no, espacos: int):\n",
    "        if no is None:\n",
    "            return\n",
    "\n",
    "        self.__imprimir(no.direita, espacos + 3)\n",
    "        i = 0\n",
    "        while i < espacos:\n",
    "            print(\"   \", end=\"\")\n",
    "            i += 1\n",
    "        print(no.valor, \"\\n\")\n",
    "        self.__imprimir(no.esquerda, espacos + 3)\n",
    "        \n",
    "        \n",
    "\n",
    "    # método para adicionar nó\n",
    "    def adicionar(self, valor: int):\n",
    "        self.raiz = self.__adicionar(self.raiz, valor)\n",
    "\n",
    "    def __adicionar(self, no: No, valor: int): # Raiz None | 15 | None\n",
    "        if no is None:\n",
    "            return self.No(valor)\n",
    "      \n",
    "        if valor <= no.valor: # no = raiz\n",
    "            no.esquerda = self.__adicionar(no.esquerda, valor)\n",
    "        else:\n",
    "            no.direita = self.__adicionar(no.direita, valor)\n",
    "        return no"
   ]
  },
  {
   "attachments": {},
   "cell_type": "markdown",
   "metadata": {},
   "source": [
    "<img src=\"https://s3-sa-east-1.amazonaws.com/lcpi/61af9259-b2d0-444c-bef0-22ae71c0b9f2.png\" width=600>"
   ]
  },
  {
   "cell_type": "code",
   "execution_count": null,
   "metadata": {},
   "outputs": [],
   "source": [
    "arvore = Arvore()\n",
    "\n",
    "arvore.adicionar(15)\n",
    "arvore.adicionar(6)\n",
    "arvore.adicionar(3)\n",
    "arvore.adicionar(2)\n",
    "arvore.adicionar(4)\n",
    "arvore.adicionar(7)\n",
    "arvore.adicionar(13)\n",
    "arvore.adicionar(18)\n",
    "arvore.adicionar(17)\n",
    "arvore.adicionar(20)\n",
    "\n",
    "arvore.imprimir()"
   ]
  },
  {
   "cell_type": "code",
   "execution_count": null,
   "metadata": {},
   "outputs": [],
   "source": [
    "arvore2 = Arvore()\n",
    "\n",
    "arvore2.adicionar(15)\n",
    "arvore2.adicionar(2)\n",
    "arvore2.adicionar(4)\n",
    "arvore2.adicionar(7)\n",
    "arvore2.adicionar(3)\n",
    "arvore2.adicionar(13)\n",
    "arvore2.adicionar(18)\n",
    "arvore2.adicionar(6)\n",
    "arvore2.adicionar(17)\n",
    "arvore2.adicionar(20)\n",
    "\n",
    "arvore2.imprimir()"
   ]
  },
  {
   "attachments": {},
   "cell_type": "markdown",
   "metadata": {},
   "source": [
    "Por fim, vamos implementar a busca binária"
   ]
  },
  {
   "cell_type": "code",
   "execution_count": null,
   "metadata": {},
   "outputs": [],
   "source": [
    "# class Arvore:\n",
    "#     [...]\n",
    "#\n",
    "#     # método de busca binária\n",
    "#     def buscar(self, valor: int):\n",
    "#         return self.__buscar(self.raiz, valor)\n",
    "\n",
    "#     def __buscar(self, no: No, valor: int):\n",
    "#         if no is None:\n",
    "#             return None\n",
    "        \n",
    "#         if valor == no.valor:\n",
    "#             return no\n",
    "#         elif valor <= no.valor:\n",
    "#             return self.__buscar(no.esquerda, valor)\n",
    "#         else:\n",
    "#             return self.__buscar(no.direita, valor)\n",
    "\n",
    "class Arvore:\n",
    "    class No:\n",
    "        def __init__(self, valor: int):\n",
    "            self.valor = valor\n",
    "            self.esquerda = None # São nós\n",
    "            self.direita = None # São nós\n",
    "        \n",
    "        def __repr__(self):\n",
    "            return self.__str__()\n",
    "\n",
    "        def __str__(self):\n",
    "            valor_esquerda = None if self.esquerda is None else self.esquerda.valor\n",
    "            valor_direita = None if self.direita is None else self.direita.valor\n",
    "            return f'{valor_esquerda} | {self.valor} | {valor_direita}'\n",
    "        \n",
    "    \n",
    "    def __init__(self):\n",
    "        self.raiz = None\n",
    "    \n",
    "    # método para imprimir a árvore\n",
    "    def imprimir(self):\n",
    "        print()\n",
    "        self.__imprimir(self.raiz, 0)\n",
    "        print()\n",
    "\n",
    "    def __imprimir(self, no, espacos: int):\n",
    "        if no is None:\n",
    "            return\n",
    "\n",
    "        self.__imprimir(no.direita, espacos + 3)\n",
    "        i = 0\n",
    "        while i < espacos:\n",
    "            print(\"   \", end=\"\")\n",
    "            i += 1\n",
    "        print(no.valor, \"\\n\")\n",
    "        self.__imprimir(no.esquerda, espacos + 3)\n",
    "        \n",
    "        \n",
    "\n",
    "    # método para adicionar nó\n",
    "    def adicionar(self, valor: int):\n",
    "        self.raiz = self.__adicionar(self.raiz, valor)\n",
    "\n",
    "    def __adicionar(self, no: No, valor: int): # Raiz None | 15 | None\n",
    "        if no is None:\n",
    "            return self.No(valor)\n",
    "      \n",
    "        if valor <= no.valor: # no = raiz\n",
    "            no.esquerda = self.__adicionar(no.esquerda, valor)\n",
    "        else:\n",
    "            no.direita = self.__adicionar(no.direita, valor)\n",
    "        return no\n",
    "\n",
    "    # método de busca binária\n",
    "    def buscar(self, valor: int):\n",
    "        return self.__buscar(self.raiz, valor)\n",
    "\n",
    "    def __buscar(self, no: No, valor: int):\n",
    "        if no is None:\n",
    "            return None\n",
    "        \n",
    "        if valor == no.valor:\n",
    "            return no\n",
    "        elif valor <= no.valor:\n",
    "            return self.__buscar(no.esquerda, valor)\n",
    "        else:\n",
    "            return self.__buscar(no.direita, valor)"
   ]
  },
  {
   "cell_type": "code",
   "execution_count": null,
   "metadata": {},
   "outputs": [],
   "source": [
    "arvore = Arvore()\n",
    "arvore.imprimir()\n",
    "\n",
    "arvore.adicionar(15)\n",
    "arvore.adicionar(6)\n",
    "arvore.adicionar(3)\n",
    "arvore.adicionar(2)\n",
    "arvore.adicionar(4)\n",
    "arvore.adicionar(7)\n",
    "arvore.adicionar(13)\n",
    "arvore.adicionar(18)\n",
    "arvore.adicionar(17)\n",
    "arvore.adicionar(20)\n",
    "\n",
    "arvore.imprimir()\n",
    "\n",
    "encontrado = arvore.buscar(17)\n",
    "print(encontrado)\n",
    "\n",
    "encontrado = arvore.buscar(3)\n",
    "print(encontrado)\n",
    "\n",
    "encontrado = arvore.buscar(11)\n",
    "print(encontrado)"
   ]
  },
  {
   "attachments": {},
   "cell_type": "markdown",
   "metadata": {},
   "source": [
    "### Percurso em árvore\n",
    "\n",
    "As vezes pode ser necessário percorrer todos os nós da árvore: `percurso`.\n",
    "\n",
    "Para isso é necessário `visitar` cada um de seus nós (visitar significa operar, de alguma forma, a informação existente no nó);. Passar de um nó pai para um filho não configura visitar o pai, por exemplo.\n",
    "\n",
    "Para realizar o percurso na árvore, é necessário visitar o nó pai, seu filho da esquerda e seu filho da direita. É este o algoritmo.\n",
    "\n",
    "A ordem da visita (primeiro o pai, o filho da direita ou da esquerda) é decidida pelo programador, dependendo da necessidade.\n",
    "\n",
    "#### Percurso em ordem\n",
    " \n",
    "A existência da propriedade de árvore de pesquisa binária permite que seja possível imprimir todos os valores da árvore em sequência ordenada. No percurso em ordem é impresso\n",
    "1) O valor da subárvore à esquerda\n",
    "2) O valor da raiz\n",
    "3) O valor da subárvore à direita\n",
    " \n",
    "&nbsp;\n",
    " \n",
    "#### Percurso pré-ordem\n",
    "No percurso pré-ordem é impresso\n",
    "1) O valor da raiz\n",
    "2) O valor da subárvore à esquerda\n",
    "3) O valor da subárvore à direita\n",
    " \n",
    "&nbsp;\n",
    " \n",
    "#### Percurso pós-ordem\n",
    "No percurso pós-ordem é impresso\n",
    "1) O valor da subárvore à esquerda\n",
    "2) O valor da subárvore à direita\n",
    "3) O valor da raiz\n",
    " \n",
    "&nbsp;\n",
    " \n",
    "É importante mencionar que os percursos só definem o valor da raiz antes, entre ou depois dos nós, mas não obrigam a impressão do nó da esquerda antes do da direita. Isto depende do programador.\n",
    "\n",
    "Abaixo a implementação da classe `Arvore` com os percursos."
   ]
  },
  {
   "cell_type": "code",
   "execution_count": 5,
   "metadata": {},
   "outputs": [],
   "source": [
    "class Arvore:\n",
    "    class No:\n",
    "        def __init__(self, valor: int):\n",
    "            self.valor = valor\n",
    "            self.esquerda = None\n",
    "            self.direita = None\n",
    "            \n",
    "        def __repr__(self):\n",
    "            return self.__str__()\n",
    "\n",
    "        def __str__(self):\n",
    "            valor_esquerda = None if self.esquerda is None else self.esquerda.valor\n",
    "            valor_direita = None if self.direita is None else self.direita.valor\n",
    "            return f'{valor_esquerda} | {self.valor} | {valor_direita}'\n",
    "    \n",
    "    def __init__(self):\n",
    "        self.raiz: No = None\n",
    "    \n",
    "    # método para imprimir a árvore\n",
    "    def imprimir(self):\n",
    "        print()\n",
    "        self.__imprimir(self.raiz, 0)\n",
    "        print()\n",
    "\n",
    "    def __imprimir(self, no, espacos: int):\n",
    "        if no is None:\n",
    "            return\n",
    "        self.__imprimir(no.direita, espacos + 3)\n",
    "        i = 0\n",
    "        while i < espacos:\n",
    "            print(\"   \", end=\"\")\n",
    "            i += 1\n",
    "        print(no.valor, \"\\n\")\n",
    "        self.__imprimir(no.esquerda, espacos + 3)\n",
    "        \n",
    "    # método para adicionar nó\n",
    "    def adicionar(self, valor: int):\n",
    "        self.raiz = self.__adicionar(self.raiz, valor)\n",
    "\n",
    "    def __adicionar(self, no: No, valor: int):\n",
    "        if no is None:\n",
    "            return self.No(valor)\n",
    "        \n",
    "        if valor <= no.valor:\n",
    "            no.esquerda = self.__adicionar(no.esquerda, valor)\n",
    "        else:\n",
    "            no.direita = self.__adicionar(no.direita, valor)\n",
    "        return no\n",
    "    \n",
    "    # método de busca binária\n",
    "    def buscar(self, valor: int):\n",
    "        return self.__buscar(self.raiz, valor)\n",
    "\n",
    "    def __buscar(self, no: No, valor: int):\n",
    "        if no is None:\n",
    "            return None\n",
    "        \n",
    "        if valor == no.valor:\n",
    "            return no\n",
    "        elif valor <= no.valor:\n",
    "            return self.__buscar(no.esquerda, valor)\n",
    "        else:\n",
    "            return self.__buscar(no.direita, valor)\n",
    "    \n",
    "    # percurso em ordem\n",
    "    def percurso_em_ordem(self):\n",
    "        self.__percurso_em_ordem(self.raiz)\n",
    "    \n",
    "    def __percurso_em_ordem(self, no):\n",
    "        if no is None:\n",
    "            return\n",
    "        \n",
    "        self.__percurso_em_ordem(no.esquerda)\n",
    "        print(f'{no.valor}', end=\" \", sep=\" \")\n",
    "        self.__percurso_em_ordem(no.direita)\n",
    "\n",
    "    # percurso pré-ordem\n",
    "    def percurso_pre_ordem(self):\n",
    "        self.__percurso_pre_ordem(self.raiz)\n",
    "    \n",
    "    def __percurso_pre_ordem(self, no):\n",
    "        if no is None:\n",
    "            return\n",
    "        \n",
    "        print(f'{no.valor}', end=\" \", sep=\" \")\n",
    "        self.__percurso_pre_ordem(no.esquerda)\n",
    "        self.__percurso_pre_ordem(no.direita)\n",
    "    \n",
    "    # percurso pos-ordem\n",
    "    def percurso_pos_ordem(self):\n",
    "        self.__percurso_pos_ordem(self.raiz)\n",
    "    \n",
    "    def __percurso_pos_ordem(self, no):\n",
    "        if no is None:\n",
    "            return\n",
    "        \n",
    "        self.__percurso_pos_ordem(no.esquerda)\n",
    "        self.__percurso_pos_ordem(no.direita)\n",
    "        print(f'{no.valor}', end=\" \", sep=\" \")"
   ]
  },
  {
   "cell_type": "code",
   "execution_count": 8,
   "metadata": {},
   "outputs": [
    {
     "name": "stdout",
     "output_type": "stream",
     "text": [
      "\n",
      "\n",
      "2 3 4 6 7 13 15 17 18 20 \n",
      "15 6 3 2 4 7 13 18 17 20 \n",
      "2 4 3 13 7 6 17 20 18 15 \n"
     ]
    }
   ],
   "source": [
    "arvore = Arvore()\n",
    "arvore.imprimir()\n",
    "\n",
    "arvore.adicionar(15)\n",
    "arvore.adicionar(6)\n",
    "arvore.adicionar(3)\n",
    "arvore.adicionar(2)\n",
    "arvore.adicionar(4)\n",
    "arvore.adicionar(7)\n",
    "arvore.adicionar(13)\n",
    "arvore.adicionar(18)\n",
    "arvore.adicionar(17)\n",
    "arvore.adicionar(20)\n",
    "\n",
    "arvore.percurso_em_ordem()\n",
    "print()\n",
    "\n",
    "arvore.percurso_pre_ordem()\n",
    "print()\n",
    "\n",
    "arvore.percurso_pos_ordem()\n",
    "print()"
   ]
  },
  {
   "attachments": {},
   "cell_type": "markdown",
   "metadata": {},
   "source": [
    "Uma outra forma de implementar a árvore pode ser vista abaixo:"
   ]
  },
  {
   "cell_type": "code",
   "execution_count": 9,
   "metadata": {},
   "outputs": [],
   "source": [
    "class Arvore:\n",
    "    def __init__(self, raiz, esquerda = None, direita = None):\n",
    "        self.raiz = raiz\n",
    "        self.esquerda = esquerda\n",
    "        self.direita = direita\n",
    "        \n",
    "    def __repr__(self):\n",
    "        if self.esquerda == None and self.direita == None:\n",
    "            return f'Folha com valor {self.raiz}'\n",
    "        else:\n",
    "            return f'Árvore com raiz {self.raiz}'\n",
    "        \n",
    "    \n",
    "    def __str__(self, level=0):\n",
    "        ret = \"   \"*level + repr(self.raiz)+\"\\n\"\n",
    "        if self.esquerda:\n",
    "            ret += f'{self.esquerda.__str__(level+1)}'\n",
    "        if self.direita:\n",
    "            ret += f'{self.direita.__str__(level+1)}'            \n",
    "        return ret\n",
    "\n",
    "    # método de busca binária\n",
    "    def buscar(self, procurado):\n",
    "        if self.raiz == procurado:\n",
    "            return True\n",
    "        \n",
    "        # o nó atual é uma folha?\n",
    "        elif self.esquerda == None and self.direita == None:\n",
    "            return False\n",
    "        elif procurado < self.raiz:\n",
    "            return self.esquerda.buscar(procurado)\n",
    "        elif procurado > self.raiz:\n",
    "            return self.direita.buscar(procurado)\n",
    "\n",
    "    # Percurso em ordem\n",
    "    def em_ordem(self):\n",
    "        self.__em_ordem(self)\n",
    "    \n",
    "    def __em_ordem(self, no):\n",
    "        if no is None:\n",
    "            return\n",
    "\n",
    "        self.__em_ordem(no.esquerda)\n",
    "        print(no.raiz, end=\" \", sep=\"\")\n",
    "        self.__em_ordem(no.direita)\n",
    "\n",
    "    # Percurso pré-ordem\n",
    "    def pre_ordem(self):\n",
    "        self.__pre_ordem(self)\n",
    "    \n",
    "    def __pre_ordem(self, no):\n",
    "        if no is None:\n",
    "            return\n",
    "\n",
    "        print(no.raiz, end=\" \", sep=\"\")\n",
    "        self.__pre_ordem(no.esquerda)\n",
    "        self.__pre_ordem(no.direita)\n",
    "\n",
    "    # Percurso pos-ordem\n",
    "    def pos_ordem(self):\n",
    "        self.__pos_ordem(self)\n",
    "    \n",
    "    def __pos_ordem(self, no):\n",
    "        if no is None:\n",
    "            return\n",
    "\n",
    "        self.__pos_ordem(no.esquerda)\n",
    "        self.__pos_ordem(no.direita)\n",
    "        print(no.raiz, end=\" \", sep=\"\")\n"
   ]
  },
  {
   "cell_type": "code",
   "execution_count": 10,
   "metadata": {},
   "outputs": [],
   "source": [
    "arvore3 = Arvore(15,\n",
    "                esquerda = Arvore(6,\n",
    "                                  esquerda = Arvore(3,\n",
    "                                                    esquerda = Arvore(2),\n",
    "                                                    direita = Arvore(4)),\n",
    "                                  direita = Arvore(7,\n",
    "                                                   direita = Arvore(13))),\n",
    "                direita = Arvore(18,\n",
    "                                 esquerda = Arvore(17),\n",
    "                                 direita = Arvore(20)))"
   ]
  },
  {
   "cell_type": "code",
   "execution_count": 11,
   "metadata": {},
   "outputs": [
    {
     "data": {
      "text/plain": [
       "Árvore com raiz 15"
      ]
     },
     "execution_count": 11,
     "metadata": {},
     "output_type": "execute_result"
    }
   ],
   "source": [
    "arvore3"
   ]
  },
  {
   "cell_type": "code",
   "execution_count": 12,
   "metadata": {},
   "outputs": [
    {
     "name": "stdout",
     "output_type": "stream",
     "text": [
      "15\n",
      "   6\n",
      "      3\n",
      "         2\n",
      "         4\n",
      "      7\n",
      "         13\n",
      "   18\n",
      "      17\n",
      "      20\n",
      "\n"
     ]
    }
   ],
   "source": [
    "print(arvore3)"
   ]
  },
  {
   "cell_type": "code",
   "execution_count": 13,
   "metadata": {},
   "outputs": [
    {
     "data": {
      "text/plain": [
       "True"
      ]
     },
     "execution_count": 13,
     "metadata": {},
     "output_type": "execute_result"
    }
   ],
   "source": [
    "arvore3.buscar(15)"
   ]
  },
  {
   "cell_type": "code",
   "execution_count": 14,
   "metadata": {},
   "outputs": [
    {
     "data": {
      "text/plain": [
       "True"
      ]
     },
     "execution_count": 14,
     "metadata": {},
     "output_type": "execute_result"
    }
   ],
   "source": [
    "arvore3.buscar(13)"
   ]
  },
  {
   "cell_type": "code",
   "execution_count": 15,
   "metadata": {},
   "outputs": [
    {
     "data": {
      "text/plain": [
       "False"
      ]
     },
     "execution_count": 15,
     "metadata": {},
     "output_type": "execute_result"
    }
   ],
   "source": [
    "arvore3.buscar(14)"
   ]
  },
  {
   "cell_type": "code",
   "execution_count": 16,
   "metadata": {},
   "outputs": [
    {
     "name": "stdout",
     "output_type": "stream",
     "text": [
      "2 3 4 6 7 13 15 17 18 20 \n",
      "15 6 3 2 4 7 13 18 17 20 \n",
      "2 4 3 13 7 6 17 20 18 15 \n"
     ]
    }
   ],
   "source": [
    "arvore3.em_ordem()\n",
    "print()\n",
    "\n",
    "arvore3.pre_ordem()\n",
    "print()\n",
    "\n",
    "arvore3.pos_ordem()\n",
    "print()"
   ]
  },
  {
   "attachments": {},
   "cell_type": "markdown",
   "metadata": {},
   "source": [
    "### Árvores de decisão\n",
    "\n",
    "Árvores podem ser usadas para criar um caminho lógico para uma decisão. \n",
    "\n",
    "Na figura, temos uma árvore que diagnosticará se uma pessoa está com algum problema de saúde.\n",
    "\n",
    "<img src=https://s3-sa-east-1.amazonaws.com/lcpi/c7bfd1c3-f7dc-464a-ae25-6dcc6ce7672f.PNG width=600>\n",
    "\n"
   ]
  },
  {
   "attachments": {},
   "cell_type": "markdown",
   "metadata": {},
   "source": [
    "Como exercício, crie uma árvore que represente a árvore da imagem. \n",
    "\n",
    "Insira um método que percorre a árvore, fazendo perguntas, e ao final diga o problema de saúde de uma determinada pessoa."
   ]
  },
  {
   "attachments": {},
   "cell_type": "markdown",
   "metadata": {},
   "source": [
    "### implementem a classe dá árvore! \n",
    "\n",
    "Construam também um método para o diagnóstico\n",
    "\n",
    "no método, deve haver um input perguntando sobre alguma das variáveis (sente mal estar? tem dor de cabeça?)\n",
    "\n",
    "a resposta deve ser de sim/nao, True/False\n",
    "\n",
    "com base na resposta, vc deve decidir por qual lado seguir, e assim, percorrer a árvore\n",
    "\n",
    "percorra a árvore, até chegar em alguma folha\n",
    "\n",
    "na folha, é retornado o diagnóstico."
   ]
  },
  {
   "cell_type": "code",
   "execution_count": 17,
   "metadata": {},
   "outputs": [],
   "source": [
    "# Pseudo código do diagnóstico\n",
    "# def diagnostico(self):\n",
    "#     se filho_esquerda = None e filho_direita = None então\n",
    "#         retorna \"você está com {pergunta}\"\n",
    "#     senao\n",
    "#         resposta := input(\"Você está com {pergunta}?\")\n",
    "\n",
    "#         enquanto resposta não for [sim, nao]:\n",
    "#             imprime(\"Não entendi. Responda novamente\")\n",
    "#             resposta := input(\"Você está com {pergunta}?\")\n",
    "        \n",
    "#         se resposta = sim então\n",
    "#             retorna filho_direita.diagnostico()\n",
    "#         senão\n",
    "#             retorna filho_esquerda.diagnostico()\n",
    "\n",
    "class Arvore:\n",
    "    def __init__(self, pergunta, esquerda  = None, direita = None):\n",
    "        self.pergunta = pergunta\n",
    "        self.esquerda  = esquerda\n",
    "        self.direita = direita\n",
    "        \n",
    "    def __repr__(self):\n",
    "        return \"A pergunta da raiz é: {}\".format(self.pergunta)\n",
    "    \n",
    "    def __str__(self, level=0):\n",
    "        ret = \"   \"*level + repr(self.pergunta)+\"\\n\"\n",
    "        if self.esquerda:\n",
    "            ret += f'{self.esquerda.__str__(level+1)}'\n",
    "        if self.direita:\n",
    "            ret += f'{self.direita.__str__(level+1)}'\n",
    "        return ret\n",
    "        \n",
    "    def diagnostico(self):\n",
    "        # a árvore é uma folha?\n",
    "        if self.esquerda == None and self.direita == None:\n",
    "            return f'Você está com {self.pergunta}' \n",
    "        else:\n",
    "            resposta = input(f'Você está com {self.pergunta}? ')\n",
    "\n",
    "            while resposta not in [\"sim\", \"nao\", \"não\"]:\n",
    "                print(\"Não entendi! Responda novamente\")\n",
    "                resposta = input(f'Você está com {self.pergunta}? ')\n",
    "\n",
    "            if resposta.lower() == 'sim':\n",
    "                return self.direita.diagnostico()\n",
    "            else:\n",
    "                return self.esquerda.diagnostico()"
   ]
  },
  {
   "cell_type": "code",
   "execution_count": 18,
   "metadata": {},
   "outputs": [],
   "source": [
    "t1 = Arvore('mal estar', \n",
    "            esquerda  = Arvore('febre',\n",
    "                        esquerda  = Arvore('dor de cabeça',\n",
    "                                    esquerda  = Arvore('saudável'),\n",
    "                                    direita = Arvore('fadiga')\n",
    "                                   ),\n",
    "                        direita = Arvore('manchas no corpo',\n",
    "                                    esquerda  = Arvore('virose'),\n",
    "                                    direita = Arvore('sarampo')\n",
    "                                   )\n",
    "                       ),\n",
    "            direita = Arvore('dor de cabeça',\n",
    "                       esquerda  = Arvore('vontade de vomitar',\n",
    "                                  esquerda  = Arvore('fome'),\n",
    "                                  direita = Arvore('infecção intestinal')\n",
    "                                  ),\n",
    "                       direita = Arvore('boca seca',\n",
    "                                   esquerda  = Arvore('falta de café'),\n",
    "                                   direita = Arvore('ressaca')\n",
    "                                  )\n",
    "                       )\n",
    "           )"
   ]
  },
  {
   "cell_type": "code",
   "execution_count": 19,
   "metadata": {},
   "outputs": [
    {
     "data": {
      "text/plain": [
       "A pergunta da raiz é: mal estar"
      ]
     },
     "execution_count": 19,
     "metadata": {},
     "output_type": "execute_result"
    }
   ],
   "source": [
    "t1"
   ]
  },
  {
   "cell_type": "code",
   "execution_count": 20,
   "metadata": {},
   "outputs": [
    {
     "name": "stdout",
     "output_type": "stream",
     "text": [
      "'mal estar'\n",
      "   'febre'\n",
      "      'dor de cabeça'\n",
      "         'saudável'\n",
      "         'fadiga'\n",
      "      'manchas no corpo'\n",
      "         'virose'\n",
      "         'sarampo'\n",
      "   'dor de cabeça'\n",
      "      'vontade de vomitar'\n",
      "         'fome'\n",
      "         'infecção intestinal'\n",
      "      'boca seca'\n",
      "         'falta de café'\n",
      "         'ressaca'\n",
      "\n"
     ]
    }
   ],
   "source": [
    "print(t1)"
   ]
  },
  {
   "cell_type": "code",
   "execution_count": 21,
   "metadata": {},
   "outputs": [
    {
     "data": {
      "text/plain": [
       "'Você está com virose'"
      ]
     },
     "execution_count": 21,
     "metadata": {},
     "output_type": "execute_result"
    }
   ],
   "source": [
    "t1.diagnostico()"
   ]
  }
 ],
 "metadata": {
  "kernelspec": {
   "display_name": "Python 3",
   "language": "python",
   "name": "python3"
  },
  "language_info": {
   "codemirror_mode": {
    "name": "ipython",
    "version": 3
   },
   "file_extension": ".py",
   "mimetype": "text/x-python",
   "name": "python",
   "nbconvert_exporter": "python",
   "pygments_lexer": "ipython3",
   "version": "3.10.5"
  },
  "orig_nbformat": 4,
  "vscode": {
   "interpreter": {
    "hash": "42478136ef40f8edd3f4cf991c33cffcfc620a666d0dc328e82cc0ef4d7b2c04"
   }
  }
 },
 "nbformat": 4,
 "nbformat_minor": 2
}
