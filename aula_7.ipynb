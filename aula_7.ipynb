{
 "cells": [
  {
   "attachments": {},
   "cell_type": "markdown",
   "metadata": {},
   "source": [
    "## Conteúdo da aula de hoje\n",
    "\n",
    "Percurso em árvore (Infixo, prefixo e posfixo)\n",
    "\n",
    "Árvores de decisão\n",
    "\n",
    "Complexidade de algoritmos\n",
    "\n",
    "Discussões sobre o DF\n",
    "\n",
    "___________________________"
   ]
  },
  {
   "attachments": {},
   "cell_type": "markdown",
   "metadata": {},
   "source": [
    "### Percurso em árvore (Infixo, prefixo e posfixo)\n",
    "\n",
    "Ver aula 6, antes de árvore de decisão\n",
    "\n",
    "___________________________"
   ]
  },
  {
   "attachments": {},
   "cell_type": "markdown",
   "metadata": {},
   "source": [
    "### Árvores de decisão\n",
    "\n",
    "Ver aula 6, árvore de decisão\n",
    "\n",
    "___________________________"
   ]
  },
  {
   "attachments": {},
   "cell_type": "markdown",
   "metadata": {},
   "source": [
    "### Exemplo para colorir nós de cores diferentes\n",
    "\n",
    "Ver arquivo `ds-py-estruturas-dados-II-desafio-final/ds_py_estruturas_dados_menu_navegacao_desafio_final.ipynb`\n",
    "\n",
    "___________________________"
   ]
  },
  {
   "attachments": {},
   "cell_type": "markdown",
   "metadata": {},
   "source": [
    "# Complexidade de Algoritmos\n",
    "\n",
    "Quanto tempo leva para o computador ordenar uma lista de 10.000, usando o bubble sort?\n"
   ]
  },
  {
   "cell_type": "code",
   "execution_count": 1,
   "metadata": {},
   "outputs": [],
   "source": [
    "from random import randint\n",
    "\n",
    "def gera_lista(qtde: int):\n",
    "    lista = []\n",
    "    for i in range(qtde):\n",
    "        lista.append(randint(0, 1000000))\n",
    "    return lista\n",
    "\n",
    "\n",
    "def bubble_sort(lista):\n",
    "    for i in range(len(lista)-1,0,-1): # começa no len, para no 0, diminui 1 em 1\n",
    "        for j in range(i):\n",
    "            if lista[j] > lista[j+1]:\n",
    "                lista[j], lista[j+1] = lista[j+1], lista[j]\n",
    "    return lista\n",
    "\n",
    "# def bubble_sort_otimizado(lista):\n",
    "#     for i in range(len(lista)-1,0,-1):\n",
    "#         houve_troca = False\n",
    "#         for j in range(i):\n",
    "#             if lista[j] > lista[j+1]:\n",
    "#                 lista[j], lista[j+1] = lista[j+1], lista[j]\n",
    "#                 houve_troca = True\n",
    "#         if not houve_troca:\n",
    "#             break\n",
    "#     return lista"
   ]
  },
  {
   "cell_type": "code",
   "execution_count": 2,
   "metadata": {},
   "outputs": [
    {
     "name": "stdout",
     "output_type": "stream",
     "text": [
      "[37749, 470757, 794968, 651846, 449482, 322043, 794499, 211425, 54728, 307662]\n",
      "19.65700000000652 \n",
      " [37749, 470757, 794968, 651846, 449482, 322043, 794499, 211425, 54728, 307662] \n",
      "\n"
     ]
    }
   ],
   "source": [
    "from time import monotonic\n",
    "lista = gera_lista(10000)\n",
    "\n",
    "print(lista[0: 10])\n",
    "start = monotonic()\n",
    "bubble_sort(lista.copy())\n",
    "print(monotonic() - start, '\\n', lista[0: 10], '\\n')\n",
    "\n",
    "# print(lista[0: 10])\n",
    "# start = monotonic()\n",
    "# bubble_sort_otimizado(lista.copy())\n",
    "# print(monotonic() - start, '\\n', lista[0: 10], '\\n')"
   ]
  },
  {
   "attachments": {},
   "cell_type": "markdown",
   "metadata": {},
   "source": [
    "E 100.000? E 1.000.000? e 1 bilhão de números?\n",
    "\n",
    "Acho que nunca saberemos....\n",
    "\n",
    "Sabemos que o **Bubble Sort** é lento. Mas como sabemos que ele é lento? Aliás, ele é sempre lento? Existe algum caso em que valha a pena usar o **Bubble Sort** no lugar de algum outro? Como podemos responder a esses questionamentos? É aí que entra a noção de análise de algoritmos."
   ]
  },
  {
   "attachments": {},
   "cell_type": "markdown",
   "metadata": {},
   "source": [
    "## Análise de algoritmos\n",
    "\n",
    "Método empírico -> Determinar com precisão, caso a massa de dados não seja tão grande, mas ainda assim significativa, o tempo de processamento e a quantidade de memória que um determinado algoritmo ocupa ao ser executado\n",
    "\n",
    "Método analítico -> Entendemos seu comportamento à medida que a massa de dados aumenta, através de expressões matemáticas.\n",
    "\n",
    "Com o método analítico, podemos prever como o algoritmo deve se comportar ao longo do tempo independentemente do computador, da linguagem, do compilador e das condições de processamento.\n",
    "\n",
    "&nbsp;\n",
    "\n",
    "> Análise de algoritmos é a medição da complexidade de um algoritmo, e a complexidade do algoritmo pode ser definida como a quantidade de trabalho necessária para sua execução, expressa em função de suas operações fundamentais, as quais variam de acordo com o algoritmo e em função do volume de dados.\n",
    "\n",
    "&nbsp;\n",
    "\n",
    "Elementos considerados na análise de algoritmos:\n",
    "\n",
    "- Complexidade de tempo (tempo para executar o algoritmo)\n",
    "- Complexidade de espaço (espaço ocupado pelo algoritmo)\n",
    "- Corretude (obtenção do resultado correto)\n",
    "- Robustez (como se comporta com entradas inválidas ou não previstas)\n",
    "\n",
    "**Não** vamos ver a com a complexidade de espaço, vamos focar na **complexidade de tempo**."
   ]
  },
  {
   "attachments": {},
   "cell_type": "markdown",
   "metadata": {},
   "source": [
    "### Complexidade de tempo\n",
    "\n",
    "Tempo necessário para um algoritmo realizar todo seu processamento até o final. \n",
    "\n",
    "É a soma de dois fatores: o tempo que o programa leva para compilar e o tempo de processamento dele.\n",
    "\n",
    "Como Python não é uma linguagem compilada, é interpretada, vamos considerar somente o tempo de processamento dele.\n",
    "\n",
    "Em uma linguagem compilada o tempo de compilação pode ser descartado, pois ele não depende das características da instância do algoritmo.\n",
    "\n",
    "Vamos chamar o tempo de processamento de `T`<sub>`(p)`</sub> para um determinado programa P.\n",
    "\n",
    "Podemos não conseguir definir exatamente o tempo de execução, pois muitos fatores podem ser desconhecidos durante o desenvolvimento do algoritmo. Ex: o tamanho da lista em um problema de ordenação ou busca.\n",
    "\n",
    "Nesse caso, é aceitável **estimar** `T`<sub>`(p)`</sub>.\n",
    "\n",
    "Essa estimativa é obtida determinando o número de adições, subtrações, multiplicações, divisões, comparações, atribuições, carregamentos etc., feitos pelo algoritmo.  Matematicamente, podemos expressar a estimativa através da fórmula abaixo:\n",
    "\n",
    "> `Tp(n) = c`<sub>`a`</sub>`ADD(n) + c`<sub>`s`</sub>`SUB(n) + c`<sub>`m`</sub>`MUL(n) + ...`\n",
    "\n",
    "onde `n` são as características da instância, enquanto c<sub>a</sub>, c<sub>s</sub>, c<sub>m</sub> são o tempo para realizar as operações de adição, subtração etc. e ADD, SUB, MUL são a quantidade de operações de adição, subtração etc., realizadas pelo algoritmo em uma instância com caraterística `n`.\n",
    "&nbsp;\n",
    "\n",
    "\n",
    "Observem o método `abc` abaixo:"
   ]
  },
  {
   "cell_type": "code",
   "execution_count": null,
   "metadata": {},
   "outputs": [],
   "source": [
    "def abc(a: int, b: int, c: int):\n",
    "    # Realiza um cálculo qualquer\n",
    "    return a - (b * c) + a - (c + a - b) / (b + a) + 3"
   ]
  },
  {
   "attachments": {},
   "cell_type": "markdown",
   "metadata": {},
   "source": [
    "Ele é independente das características da instância do algoritmo, pois recebe três parâmetros e não vai aumentar ou diminuir essa entrada.\n",
    "\n",
    "Esse programa todo pode ser executado no que chamamos de `passo`\n",
    "\n",
    "> Passo é um segmento do programa que possui tempo de execução independente das características da instância.\n",
    "\n",
    "O número de passos de um algoritmo depende do tipo de instrução que compõe o algoritmo. \n",
    "\n",
    "- atribuições contam como um passo, \n",
    "- leituras contam como um passo, \n",
    "- em laços (`for`, `while`) contamos somente a parte de controle, descartando as operações internas do laço que não sejam atribuições, leituras etc. \n",
    "  \n",
    "Para poder contar quantos passos um algoritmo executa, vamos tomar como exemplo o método de somatório abaixo, adicionando duas variáveis `cont_c` e `cont_n` para constar operações constantes e da instância."
   ]
  },
  {
   "cell_type": "code",
   "execution_count": 3,
   "metadata": {},
   "outputs": [],
   "source": [
    "from typing import List\n",
    "\n",
    "def somatorio(lista: List[int]):\n",
    "    #  Soma os valores dentro de uma lista pelo método interativo\n",
    "    soma = 0\n",
    "    for i in lista:\n",
    "        soma += i\n",
    "    return soma\n"
   ]
  },
  {
   "cell_type": "code",
   "execution_count": 4,
   "metadata": {},
   "outputs": [
    {
     "name": "stdout",
     "output_type": "stream",
     "text": [
      "0 \n",
      "\n",
      "6 \n",
      "\n",
      "15 \n",
      "\n"
     ]
    }
   ],
   "source": [
    "lista = []\n",
    "soma = somatorio(lista)\n",
    "print(soma, \"\\n\")\n",
    "\n",
    "lista = [6]\n",
    "soma = somatorio(lista)\n",
    "print(soma, \"\\n\")\n",
    "\n",
    "lista = [6,9]\n",
    "soma = somatorio(lista)\n",
    "print(soma, \"\\n\")"
   ]
  },
  {
   "cell_type": "code",
   "execution_count": 5,
   "metadata": {},
   "outputs": [],
   "source": [
    "# Somatório contando operações\n",
    "from typing import List\n",
    "\n",
    "def somatorio(lista: List[int]):\n",
    "    cont_c = 0 # contador de constantes\n",
    "    cont_n = 0 # contador de dados relativos à instancia do algoritmo\n",
    "    \n",
    "    # Inicialização da soma, executada uma vez\n",
    "    soma = 0\n",
    "    cont_c += 1\n",
    "\n",
    "    # Inicialização da variável i, executada 1 vez\n",
    "    cont_c += 1\n",
    "    for i in lista: \n",
    "        # internamente, o python usa iteradores, mas podemos ler o for da seguinte forma:\n",
    "        # for i = 0; i < len(lista); i++\n",
    "        #   soma += lista[i]\n",
    "\n",
    "        # Comparação de i com o tamanho da lista, executada n vezes\n",
    "        cont_n += 1\n",
    "\n",
    "        # i++ é a mesma coisa que i = i + 1, portanto\n",
    "        # Leitura de i, executada n vezes\n",
    "        # Atribuição de i, executada n vezes\n",
    "        cont_n += 1\n",
    "        cont_n += 1\n",
    "\n",
    "        # Leitura de soma, executada n vezes\n",
    "        # Atribuição de soma, executada n vezes\n",
    "        cont_n += 1\n",
    "        cont_n += 1\n",
    "        soma += i\n",
    "    \n",
    "    # Retorno, executado 1 vez\n",
    "    cont_c += 1\n",
    "    print(f'T(som) = {cont_n}n + {cont_c}')\n",
    "    return soma"
   ]
  },
  {
   "cell_type": "code",
   "execution_count": 9,
   "metadata": {},
   "outputs": [
    {
     "name": "stdout",
     "output_type": "stream",
     "text": [
      "T(som) = 5n + 3\n",
      "6 \n",
      "\n"
     ]
    }
   ],
   "source": [
    "lista = [6]\n",
    "soma = somatorio(lista)\n",
    "print(soma, \"\\n\")"
   ]
  },
  {
   "attachments": {},
   "cell_type": "markdown",
   "metadata": {},
   "source": [
    "Para uma lista de 1 posição, o tempo de execução é dado pela função de crescimento:\n",
    " \n",
    "> `T`<sub>`(som)`</sub>` = 5n + 3`\n",
    " \n",
    "São ralizadas 3 operações independentes da instância e 5 operações que aumentam à medida que o tamanho da entrada aumenta.\n",
    "\n",
    "&nbsp;\n",
    "\n",
    "E se fizéssemos um somatório recursivo?"
   ]
  },
  {
   "cell_type": "code",
   "execution_count": 10,
   "metadata": {},
   "outputs": [],
   "source": [
    "from typing import List\n",
    "\n",
    "def somatorio_recursivo(lista: List[int]):\n",
    "\n",
    "    # Soma os valores dentro de uma lista pelo método recursivo\n",
    "    if len(lista) <= 0:\n",
    "        return 0\n",
    "    \n",
    "    return somatorio_recursivo(lista[1:]) + lista[0]"
   ]
  },
  {
   "cell_type": "code",
   "execution_count": 11,
   "metadata": {},
   "outputs": [
    {
     "name": "stdout",
     "output_type": "stream",
     "text": [
      "0 \n",
      "\n",
      "6 \n",
      "\n",
      "15 \n",
      "\n"
     ]
    }
   ],
   "source": [
    "lista = []\n",
    "soma = somatorio_recursivo(lista)\n",
    "print(soma, \"\\n\")\n",
    "\n",
    "lista = [6]\n",
    "soma = somatorio_recursivo(lista)\n",
    "print(soma, \"\\n\")\n",
    "\n",
    "lista = [6,9]\n",
    "soma = somatorio_recursivo(lista)\n",
    "print(soma, \"\\n\")"
   ]
  },
  {
   "attachments": {},
   "cell_type": "markdown",
   "metadata": {},
   "source": [
    "Para o algoritmo `somatorio_recursivo` vamos passar a referência de um contador, de forma que as novas chamadas não inicializem nosso contador com 0 e possamos assim contabilizar exatamente quantas chamadas são realizadas;"
   ]
  },
  {
   "cell_type": "code",
   "execution_count": 12,
   "metadata": {},
   "outputs": [],
   "source": [
    "from typing import List\n",
    "\n",
    "def somatorio_recursivo(lista: List[int], contador: int = 0):\n",
    "\n",
    "    # Comparação do tamanho com 0, executada n vezes\n",
    "    contador += 1\n",
    "    if len(lista) <= 0:\n",
    "        # Retorno, executado 1 vez\n",
    "        contador += 1\n",
    "        print(f'T(som_rec) = {contador}')\n",
    "        return 0\n",
    "    \n",
    "    # Para a atribuição, retorno e soma, executada n vezes\n",
    "    contador += 1\n",
    "    return somatorio_recursivo(lista[1:], contador) + lista[0]\n",
    "    [1,2,3]\n",
    "    # return ((([]+1)+2)+3)"
   ]
  },
  {
   "cell_type": "code",
   "execution_count": 13,
   "metadata": {},
   "outputs": [
    {
     "name": "stdout",
     "output_type": "stream",
     "text": [
      "T(som_rec) = 2\n",
      "0 \n",
      "\n",
      "T(som_rec) = 4\n",
      "6 \n",
      "\n",
      "T(som_rec) = 6\n",
      "15 \n",
      "\n"
     ]
    }
   ],
   "source": [
    "lista = []\n",
    "soma = somatorio_recursivo(lista)\n",
    "print(soma, \"\\n\")\n",
    "\n",
    "lista = [6]\n",
    "soma = somatorio_recursivo(lista)\n",
    "print(soma, \"\\n\")\n",
    "\n",
    "lista = [6,9]\n",
    "soma = somatorio_recursivo(lista)\n",
    "print(soma, \"\\n\")"
   ]
  },
  {
   "attachments": {},
   "cell_type": "markdown",
   "metadata": {},
   "source": [
    "A partir da execução obtemos a seguinte fórmula, chamada de **relação de recorrência** para denotar `T`<sub>`(som_rec)`</sub>\n",
    " \n",
    "> `T`<sub>`(som_rec)`</sub>` = 2`, quando tamanho = 0\n",
    ">\n",
    "> `T`<sub>`(som_rec)`</sub>` = 2 + T`<sub>`(som_rec)`</sub>`(n-1)`, quando tamanho > 0\n",
    " \n",
    "e podemos resolvê-la através de repetidas substituições para cada ocorrência da função\n",
    " \n",
    "```\n",
    "T(som_rec) = 2 + T(som_rec)(n-1)\n",
    "           = 2 + 2 + T(som_rec)(n-2)\n",
    "           = 2(2) + T(som_rec)(n-2)\n",
    "           .\n",
    "           .\n",
    "           .\n",
    "           = n(2) + T(som_rec)(0)\n",
    "           = 2n + 2                         quando n >= 0\n",
    "```\n",
    " \n",
    "Sendo assim, podemos a função de crescimento do somatório recursivo como:\n",
    " \n",
    "> `T`<sub>`(som_rec)`</sub>` = 2n + 2`\n",
    "&nbsp;"
   ]
  },
  {
   "attachments": {},
   "cell_type": "markdown",
   "metadata": {},
   "source": [
    "Considerando o tempo de processamento, para estes exemplos de somatório, sugere-se que seja utilizado o método recursivo ao invés do interativo. Contudo, é necessário avaliar se não vai ocorrer estouro de pilha (_Stack Overflow_) durante a execução do programa por conta da recursão."
   ]
  },
  {
   "attachments": {},
   "cell_type": "markdown",
   "metadata": {},
   "source": [
    "## Análise Assintótica e Notação Assintótica\n",
    "\n",
    "> Análise assintótica é a análise da ordem de crescimento do tempo de execução *no limite* à medida que aumenta o tamanho da entrada de dados sem limitação.\n",
    "\n",
    "Nosso somatório possuia função de crescimento `T`<sub>`(som)`</sub>` = 5n + 3`. Matematicamente falando, cresce de forma linear.\n",
    "\n",
    "\n",
    "<img height=\"\" src=\"https://www.section.io/engineering-education/big-o-notation/o-n.png\" width=\"300\">\n",
    "\n",
    "&nbsp;\n",
    "\n",
    "Uma função genérica qualquer com função de crescimento `T`<sub>`(p)`</sub>` = 3n`<sup>`2`</sup>` + 2n + 3` possui um comportamento quadrático, ou seja, cresce de forma quadrática matematicamente falando.\n",
    "\n",
    "<img height=\"\" src=\"https://www.section.io/engineering-education/big-o-notation/n-square.png\" width=\"300\">\n",
    "\n",
    "&nbsp;\n",
    "\n",
    "> Notação assintótica é a forma que usamos para descrever o tempo de execução dos algoritmos, considerando somente os termos mais relevantes da função e ignorando constantes e termos menos significativos.\n",
    "\n",
    "&nbsp;\n",
    "\n",
    "Considerando `T`<sub>`(som)`</sub>` = 5n + 3`, para uma entrada suficientemente grande (`n=100.000` por exemplo):\n",
    "- A constante `+ 3` faz alguma diferença, pensando na matemática? Não.\n",
    "\n",
    "E na função genérica `T`<sub>`(p)`</sub>` = 3n`<sup>`2`</sup>` + 2n + 3`, para um `n=100.000`?\n",
    "- `T`<sub>`(p)`</sub>` = 30.000.000.000 + 200.000 + 3`. \n",
    "- Para este caso, `2n + 3` são pouco significativos, dado o valor de `3n`<sup>`2`</sup>.\n",
    " \n",
    "Por isso, daqui pra frente, vamos indicar `somente o termo mais relevante` da função (nesse caso o `5n` e o `3n`<sup>`2`</sup> respectivamente).\n",
    "\n",
    "&nbsp;\n",
    "\n",
    "Estamos falando de tempo de execução, mas qual tempo de execução? É o tempo no `melhor caso` do algoritmo? Ou seria o `pior caso`? Ou é o `caso médio`?\n",
    "\n",
    "&nbsp;\n",
    "\n",
    "Notação assintótica define limites **superiores**, **inferiores** ou **médio**, para o tempo de execução dos algoritmos.\n",
    "\n",
    "São conhecidos como Big- <img src=\"https://i.upmath.me/svg/O\" alt=\"O\" style=\"background:white\" /> (Big Oh), Big - <img src=\"https://i.upmath.me/svg/%5COmega\" alt=\"\\Omega\" style=\"background:white\"/> <strong>(Big Ômega)</strong> e Big - <img src=\"https://i.upmath.me/svg/%20%5CTheta%20\" alt=\" \\Theta \" style=\"background:white\"/> <strong>(Big Theta)</strong>, respectivamente."
   ]
  },
  {
   "attachments": {},
   "cell_type": "markdown",
   "metadata": {},
   "source": [
    "### Big-O\n",
    " \n",
    "Notação assintótica mais utilizada\n",
    "\n",
    "Define o limite superior do tempo de processamento de uma função `f`<sub>`(n)`</sub> de um algoritmo para entradas suficientemente grandes, ou seja, o `pior caso`.\n",
    "\n",
    "Dizemos que o tempo de execução é `Big-O de f`<sub>`(n)`</sub> ou apenas `O de f`<sub>`(n)`</sub>.\n",
    " \n",
    "Limite superior significa que, dada uma entrada de tamanho significativo, o algoritmo deve ter um tempo de processamento menor ou igual ao `O(f`<sub>`(n)`</sub>`)`, nunca superior a este. Para entradas pequenas ele pode ser maior ou menor que `O(f`<sub>`(n)`</sub>`)`.\n",
    " \n",
    "Observem o gráfico abaixo:\n",
    " \n",
    "![Big-O](https://s3-sa-east-1.amazonaws.com/lcpi/b24992cb-45de-4516-ad16-178f8e28f2fc.png)\n",
    " \n",
    "A linha azul demonstra o comportamento do nosso algoritmo `T`<sub>`(som)`</sub>` = 5n + 3` à medida que `n` tende ao infinito, enquanto a linha púrpura é o limite superior `O(n)`.\n",
    "\n",
    "&nbsp;"
   ]
  },
  {
   "attachments": {},
   "cell_type": "markdown",
   "metadata": {},
   "source": [
    "### Big-Ômega<img src=\"https://i.upmath.me/svg/%5COmega\" alt=\"\\Omega\" style=\"background:white\"/>\n",
    "\n",
    "Define o limite inferior do tempo de processamento de uma função f<sub>(n)</sub> de um algoritmo para entradas suficientemente grandes, ou seja, o `melhor caso`.\n",
    "\n",
    "Dizemos que o tempo de execução é `Big-`<img src=\"https://i.upmath.me/svg/%20%5COmega%20\" alt=\" \\Omega \" style=\"background:white\"/>` de f`<sub>`(n)`</sub> ou apenas <img src=\"https://i.upmath.me/svg/%20%5COmega%20\" alt=\" \\Omega \" style=\"background:white\"/>` de f`<sub>`(n)`</sub>.\n",
    "\n",
    "Observem o gráfico abaixo:\n",
    " \n",
    "![Big-Ômega](https://s3-sa-east-1.amazonaws.com/lcpi/843a7373-fdb3-48a0-bcb8-87ba8cd9ff21.png)\n",
    " \n",
    "A linha azul demonstra o comportamento do nosso algoritmo `T`<sub>`(som)`</sub>` = 5n + 3` à medida que `n` tende ao infinito, enquanto a linha laranja é o limite inferior Ômega<img src=\"https://i.upmath.me/svg/%20%5COmega%20\" alt=\" \\Omega \" style=\"background:white\"/>(n)"
   ]
  },
  {
   "attachments": {},
   "cell_type": "markdown",
   "metadata": {},
   "source": [
    "### Big-Theta <img src=\"https://i.upmath.me/svg/%20%5CTheta%20\" alt=\"\\Theta\" style=\"background:white\"/>\n",
    " \n",
    " \n",
    "Define os limites superior e inferior do tempo de processamento de uma função `f`<sub>`(n)`</sub> de um algoritmo para entradas suficientemente grandes, ou seja, o `caso médio`.\n",
    "\n",
    "Dizemos que o tempo de execução é `Big-`<img src=\"https://i.upmath.me/svg/%20%5CTheta%20\" alt=\" \\Theta \" style=\"background:white\"/>` de f`<sub>`(n)`</sub> ou apenas <img src=\"https://i.upmath.me/svg/%20%5CTheta%20\" alt=\" \\Theta \" style=\"background:white\"/>` de f`<sub>`(n)`</sub>.\n",
    " \n",
    " \n",
    "No caso do Big-<img src=\"https://i.upmath.me/svg/%20%5CTheta%20\" alt=\" \\Theta \" style=\"background:white\"/>, dada uma entrada de tamanho significativo, o algoritmo deve ter um tempo de processamento menor ou igual ao limite superior e maior ou igual ao limite inferior. Novamente, para entradas pequenas ele pode ficar fora dos limites superior e inferior.\n",
    " \n",
    " \n",
    "Observem o gráfico abaixo:\n",
    " \n",
    "![Big-Theta](https://s3-sa-east-1.amazonaws.com/lcpi/1dbd3101-dffc-4961-943f-83c9c86d499f.png)\n",
    " \n",
    " \n",
    "A linha azul demonstra o comportamento do nosso algoritmo `T`<sub>`(som)`</sub>` = 5n + 3` à medida que `n` tende ao infinito, enquanto a linha púrpura é o limite superior O(n) e a linha laranja é o limite inferior Ômega <img src=\"https://i.upmath.me/svg/%20%5COmega%20\" alt=\" \\Omega \" style=\"background:white\"/>(n)"
   ]
  },
  {
   "attachments": {},
   "cell_type": "markdown",
   "metadata": {},
   "source": [
    "## Ordens de crescimento\n",
    " \n",
    "Abaixo podemos ver a terminologia das classes mais comuns de funções, bem como uma tabela com a função, a designação e o Big-O de outras ordens que costumam aparecer com frequência e um gráfico comparativo entre algumas ordens de crescimento.\n",
    " \n",
    "- Logarítmica - O(log n)\n",
    "- Linear - O(n)\n",
    "- Quadrática - O(n<sup>2</sup>)\n",
    "- Polinomial - O(n<sup>k</sup>), onde k >= 1\n",
    "- Exponencial - O(a<sup>n</sup>), onde a >= 1\n",
    "\n",
    "&nbsp;\n",
    " \n",
    "Função              | Designação        | Big-O\n",
    "---------           | ------            | ------\n",
    "c                   | Constante         | O(1)\n",
    "log N               | Logaritmo         | O(log n)\n",
    "log<sup>2</sup> N   | Logaritmo Quadrado | O(log<sup>2</sup> n)\n",
    "N                   | Linear            | O(n)\n",
    "N log N             | N logN            | O(n log n)\n",
    "N<sup>2</sup>       | Quadrática        | O(n<sup>2</sup>)\n",
    "N<sup>3</sup>       | Cúbica            | O(n<sup>3</sup>)\n",
    "2<sup>n</sup>       | Exponencial       | O(2<sup>n</sup>)\n",
    "\n",
    "&nbsp;\n",
    "\n",
    "![Comparativo entre as ordens de crescimento](https://s3-sa-east-1.amazonaws.com/lcpi/44c9236f-0c7f-486e-9c73-24a08b582051.png)"
   ]
  }
 ],
 "metadata": {
  "kernelspec": {
   "display_name": "Python 3",
   "language": "python",
   "name": "python3"
  },
  "language_info": {
   "codemirror_mode": {
    "name": "ipython",
    "version": 3
   },
   "file_extension": ".py",
   "mimetype": "text/x-python",
   "name": "python",
   "nbconvert_exporter": "python",
   "pygments_lexer": "ipython3",
   "version": "3.10.5"
  },
  "orig_nbformat": 4,
  "vscode": {
   "interpreter": {
    "hash": "42478136ef40f8edd3f4cf991c33cffcfc620a666d0dc328e82cc0ef4d7b2c04"
   }
  }
 },
 "nbformat": 4,
 "nbformat_minor": 2
}
