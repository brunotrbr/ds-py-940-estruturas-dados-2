{
 "cells": [
  {
   "attachments": {},
   "cell_type": "markdown",
   "metadata": {},
   "source": [
    "## Praticando um pouco\n",
    "\n",
    "Dado os códigos abaixo, tente identificar qual sua complexidade `O`<sub>`(n)`</sub> e justifique:"
   ]
  },
  {
   "cell_type": "code",
   "execution_count": null,
   "metadata": {},
   "outputs": [],
   "source": [
    "### Busca sequencial\n",
    "def busca_sequencial(lista, x):\n",
    "    for idx, valor in enumerate(lista):\n",
    "        if x == valor:\n",
    "            return valor\n",
    "    return None\n"
   ]
  },
  {
   "cell_type": "code",
   "execution_count": null,
   "metadata": {},
   "outputs": [],
   "source": [
    "### Busca binária\n",
    "def busca_binaria(lista, x):\n",
    "    inf = 0\n",
    "    sup = len(lista)-1\n",
    "    while inf <= sup:\n",
    "        meio = (inf + sup) // 2\n",
    "        if lista[meio] == x:\n",
    "            return lista[meio]\n",
    "        elif lista[meio] < x:\n",
    "            inf = meio + 1\n",
    "        else:\n",
    "            sup = meio - 1"
   ]
  },
  {
   "cell_type": "code",
   "execution_count": null,
   "metadata": {},
   "outputs": [],
   "source": [
    "### Bubble sort\n",
    "def bubble_sort(lista):\n",
    "    for i in range(len(lista)-1, 0, -1):\n",
    "        for j in range(i):\n",
    "            if lista[j] > lista[j+1]:\n",
    "                lista[j], lista[j+1] = lista[j+1], lista[j]\n",
    "    return lista"
   ]
  },
  {
   "cell_type": "code",
   "execution_count": null,
   "metadata": {},
   "outputs": [],
   "source": [
    "### Insertion sort\n",
    "def insertion_sort(lista):\n",
    "    i = 0\n",
    "    j = 0\n",
    "    temporario = 0\n",
    "    while j < len(lista):\n",
    "        temporario = lista[j]\n",
    "        i = j-1\n",
    "        while i >= 0 and lista[i] > temporario:\n",
    "            lista[i+1] = lista[i]\n",
    "            i -= 1\n",
    "        lista[i+1] = temporario\n",
    "        j += 1\n",
    "    return lista"
   ]
  },
  {
   "cell_type": "code",
   "execution_count": null,
   "metadata": {},
   "outputs": [],
   "source": [
    "### Merge sort\n",
    "def merge_sort(lista, inf, sup):\n",
    "if inf < sup:\n",
    "    meio = (inf + sup) // 2\n",
    "    merge_sort(lista, inf, meio)\n",
    "    merge_sort(lista, meio+1, sup)\n",
    "    return merge_sort_join(lista, inf, meio, sup)\n",
    "\n",
    "def merge_sort_join(lista, inf, meio, sup):\n",
    "    h = inf\n",
    "    i = inf\n",
    "    j = meio + 1\n",
    "    nova_lista = [-1] * len(lista)\n",
    "    while h <= meio and j <= sup:\n",
    "        if lista[h] <= lista[j]:\n",
    "            nova_lista[i] = lista[h]\n",
    "            h += 1\n",
    "        else:\n",
    "            nova_lista[i] = lista[j]\n",
    "            j += 1\n",
    "        i += 1\n",
    "    if h > meio:\n",
    "        k = j\n",
    "        while k <= sup:\n",
    "            nova_lista[i] = lista[k]\n",
    "            k += 1\n",
    "            i += 1\n",
    "    else:\n",
    "        k = h\n",
    "        while k <= meio:\n",
    "            nova_lista[i] = lista[k]\n",
    "            k += 1\n",
    "            i += 1\n",
    "    k = inf\n",
    "    while k <= sup:\n",
    "        lista[k] = nova_lista[k]\n",
    "        k += 1\n",
    "    return lista"
   ]
  },
  {
   "cell_type": "code",
   "execution_count": null,
   "metadata": {},
   "outputs": [],
   "source": [
    "### Quick sort\n",
    "def divide(lista, inf, sup):\n",
    "    pivo = lista[sup]\n",
    "    i = inf - 1\n",
    "    j = inf\n",
    "    while j <= sup-1:\n",
    "        if lista[j] <= pivo:\n",
    "            i += 1\n",
    "            lista[i], lista[j] = lista[j], lista[i]\n",
    "        j += 1\n",
    "    lista[i+1], lista[sup] = lista[sup], lista[i+1]\n",
    "    return i+1\n",
    "\n",
    "def quicksort(lista, inf, sup):\n",
    "if inf < sup:\n",
    "    pivo = divide(lista, inf, sup)\n",
    "    lista = quicksort(lista, inf, pivo - 1)\n",
    "    lista = quicksort(lista, pivo + 1, sup)\n",
    "return lista"
   ]
  },
  {
   "cell_type": "markdown",
   "metadata": {},
   "source": [
    "#### Comparação Big-O\n",
    "Abaixo podemos visualizar a complexidade de alguns dos algoritmos desenvolvidos:\n",
    " \n",
    "Algoritmo         | melhor caso       | média               | pior caso\n",
    "---------         | ------            | ------              | ------\n",
    "Bubble Sort       | O(n<sup>2</sup>)  | O(n<sup>2</sup>)    | O(n<sup>2</sup>)\n",
    "Insertion Sort    | O(n)              | O(n<sup>2</sup>)    | O(n<sup>2</sup>)\n",
    "Merge Sort        | O(n log n)        | O(n log n)          | O(n log n)\n",
    "Quick Sort        | O(n log n)        | O(n log n)          | O(n<sup>2</sup>)"
   ]
  }
 ],
 "metadata": {
  "kernelspec": {
   "display_name": "Python 3",
   "language": "python",
   "name": "python3"
  },
  "language_info": {
   "name": "python",
   "version": "3.10.5"
  },
  "orig_nbformat": 4,
  "vscode": {
   "interpreter": {
    "hash": "42478136ef40f8edd3f4cf991c33cffcfc620a666d0dc328e82cc0ef4d7b2c04"
   }
  }
 },
 "nbformat": 4,
 "nbformat_minor": 2
}
