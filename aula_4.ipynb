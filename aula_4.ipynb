{
 "cells": [
  {
   "cell_type": "markdown",
   "metadata": {},
   "source": [
    "# Grafos (cont.)"
   ]
  },
  {
   "attachments": {},
   "cell_type": "markdown",
   "metadata": {},
   "source": [
    "Matriz de adjacência\n",
    "\n",
    "<img src=\"https://s3-sa-east-1.amazonaws.com/lcpi/1f5e0fd3-572c-479a-8a53-74d8212c5e5c.jpg\" width=500>"
   ]
  },
  {
   "attachments": {},
   "cell_type": "markdown",
   "metadata": {},
   "source": [
    "#### Atividade:\n",
    "Implemente o grafo como uma matriz de adjacências sabendo que ele possui os seguintes métodos\n",
    "\n",
    "\n",
    "classe GrafoMA:\n",
    "- adicionar_aresta(no_origem, no_destino, mao_dupla=True)\n",
    "- verificar_vizinhos(nó)"
   ]
  },
  {
   "cell_type": "code",
   "execution_count": null,
   "metadata": {},
   "outputs": [],
   "source": [
    "class GrafoMA:\n",
    "    \n",
    "    def __init__(self, n):\n",
    "        self.adj = [[0]*n for _ in range(n)]\n",
    "        \n",
    "    def __repr__(self):\n",
    "        return str('\\n'.join([str(linha) for linha in self.adj]))\n",
    "    \n",
    "    def adicionar_aresta(self, linha, coluna, peso=1, mao_dupla=True):\n",
    "        self.adj[coluna][linha] = peso\n",
    "        \n",
    "        if mao_dupla:\n",
    "            self.adj[linha][coluna] = peso\n",
    "            \n",
    "    def obter_vizinhos(self, n):\n",
    "        return [no for no, peso in enumerate(self.adj[n]) if peso != 0]"
   ]
  },
  {
   "attachments": {},
   "cell_type": "markdown",
   "metadata": {},
   "source": [
    "Listas de adjacências\n",
    "\n",
    "<img src=\"https://s3-sa-east-1.amazonaws.com/lcpi/9775dad0-c900-42e9-87fa-41d78b73444c.jpg\" width=500>"
   ]
  },
  {
   "attachments": {},
   "cell_type": "markdown",
   "metadata": {},
   "source": [
    "#### Atividade:\n",
    "Implemente o grafo como uma lista de adjacências sabendo que ele possui os seguintes métodos\n",
    "\n",
    "\n",
    "classe GrafoLA:\n",
    "- adicionar_aresta(no_origem, no_destino, mao_dupla=True)\n",
    "- verificar_vizinhos(nó)\n"
   ]
  },
  {
   "cell_type": "code",
   "execution_count": 1,
   "metadata": {},
   "outputs": [],
   "source": [
    "class GrafoLA:\n",
    "    def __init__(self, n):\n",
    "        self.adj = [[] for _ in range(n)]\n",
    "    \n",
    "    \n",
    "    def __repr__(self):\n",
    "        return '\\n'.join([str(line) for line in self.adj])\n",
    "        \n",
    "    \n",
    "    def add_edge(self, n1, n2, mao_dupla=True):\n",
    "        self.adj[n1].append(n2)\n",
    "        \n",
    "        if mao_dupla:\n",
    "            self.adj[n2].append(n1)\n",
    "            \n",
    "        \n",
    "    def get_neighbors(self, n):\n",
    "        return self.adj[n]"
   ]
  },
  {
   "cell_type": "code",
   "execution_count": 2,
   "metadata": {},
   "outputs": [
    {
     "data": {
      "text/plain": [
       "[]\n",
       "[]\n",
       "[]\n",
       "[]"
      ]
     },
     "execution_count": 2,
     "metadata": {},
     "output_type": "execute_result"
    }
   ],
   "source": [
    "g2 = GrafoLA(4)\n",
    "\n",
    "g2"
   ]
  },
  {
   "cell_type": "code",
   "execution_count": 3,
   "metadata": {},
   "outputs": [
    {
     "data": {
      "text/plain": [
       "[]"
      ]
     },
     "execution_count": 3,
     "metadata": {},
     "output_type": "execute_result"
    }
   ],
   "source": [
    "g2.get_neighbors(3)"
   ]
  },
  {
   "cell_type": "code",
   "execution_count": 4,
   "metadata": {},
   "outputs": [
    {
     "data": {
      "text/plain": [
       "[]"
      ]
     },
     "execution_count": 4,
     "metadata": {},
     "output_type": "execute_result"
    }
   ],
   "source": [
    "g2.get_neighbors(0)"
   ]
  },
  {
   "cell_type": "code",
   "execution_count": 5,
   "metadata": {},
   "outputs": [
    {
     "data": {
      "text/plain": [
       "[1, 3]\n",
       "[0, 2]\n",
       "[1, 3]\n",
       "[]"
      ]
     },
     "execution_count": 5,
     "metadata": {},
     "output_type": "execute_result"
    }
   ],
   "source": [
    "g2.add_edge(0, 1)\n",
    "\n",
    "g2.add_edge(2, 1)\n",
    "\n",
    "g2.add_edge(2, 3, mao_dupla = False)\n",
    "\n",
    "g2.add_edge(0, 3, mao_dupla = False)\n",
    "\n",
    "g2"
   ]
  },
  {
   "attachments": {},
   "cell_type": "markdown",
   "metadata": {},
   "source": [
    "#### Pergunta: como representar grafos ponderados (com pesos) com lista de adjacência?\n",
    "\n",
    "Com tuplas"
   ]
  },
  {
   "attachments": {},
   "cell_type": "markdown",
   "metadata": {},
   "source": [
    "## Percurso em Grafos\n",
    "\n",
    "Percorrer um grafo é passar por cada nó \"visitando\" ele apenas uma vez\n",
    "\n",
    "> Muitas vezes o interesse não é a visita em sí, e sim o **caminho percorrido para chegar a esse nó, na ordem em que esses nós são visitados**\n",
    "\n",
    "Por esse motivo, algoritmos de percurso precisam respeitar as arestas do grafo. Vamos conhecer duas formas de percorrer grafos:\n",
    "\n",
    "- BFS - Breadth First Search (busca em largura)\n",
    "- DFS - Depth First Search (busca em profundidade)\n",
    "\n",
    "<img src=\"https://miro.medium.com/max/1280/0*miG6xdyYzdvrB67S.gif\" width=450>"
   ]
  },
  {
   "attachments": {},
   "cell_type": "markdown",
   "metadata": {},
   "source": [
    "### Busca em profundidade (DFS - Depth First Search)\n",
    "\n",
    "Ao entrar em um nó do grafo, escolhe um caminho e vai até o final dele. Quando chega no final retorna, escolhe outro caminho e vai até o final dele.\n",
    "Esse processo é repetido até visitar todos nós.\n",
    "\n",
    "Abaixo temos um exemplo de como a busca em profundidade percorreria esse grafo partindo do nó 0.\n",
    "\n",
    "<img src=\"https://s3-sa-east-1.amazonaws.com/lcpi/0084b080-e980-46d0-8694-55895333a3e7.jpg\" width=600>"
   ]
  },
  {
   "attachments": {},
   "cell_type": "markdown",
   "metadata": {},
   "source": [
    "#### Atividade:\n",
    "\n",
    "Implemente o DFS na classe GrafoLA, com a seguinte assinatura:\n",
    "\n",
    "DFS(self, n) -> List[n]"
   ]
  },
  {
   "cell_type": "code",
   "execution_count": null,
   "metadata": {},
   "outputs": [],
   "source": [
    "# DFS(n) -> ordem_visitados\n",
    "# Inicia no vértice n. Para cada vértice vizinho, \n",
    "# visitado[vizinho] = 1 se vizinho já foi visitado. \n",
    "# visitado[] é inicializado com zeros.\n",
    "# Visita todos os vértices possíveis a partir\n",
    "# de n. ordem_visitados[] e existe somente para \n",
    "# visualizarmos a ordem ao final\n",
    "\n",
    "\n",
    "# visitado[n] := 1\n",
    "# adiciona n em ordem_visitados\n",
    "# para cada vertice vizinho adjacente de u faça\n",
    "#     se visitado[vizinho] = 0 então\n",
    "#         DFS(vizinho)"
   ]
  },
  {
   "attachments": {},
   "cell_type": "markdown",
   "metadata": {},
   "source": [
    "<img src=\"https://s3-sa-east-1.amazonaws.com/lcpi/9775dad0-c900-42e9-87fa-41d78b73444c.jpg\" width=500>"
   ]
  },
  {
   "cell_type": "code",
   "execution_count": null,
   "metadata": {},
   "outputs": [],
   "source": [
    "class GrafoLA:\n",
    "    def __init__(self, n):\n",
    "        self.adj = [[] for _ in range(n)]\n",
    "        self.__visitado = []\n",
    "        self.ordem_visitados = []\n",
    "    \n",
    "    \n",
    "    def __repr__(self):\n",
    "        return '\\n'.join([str(line) for line in self.adj])\n",
    "        \n",
    "    \n",
    "    def adiciona_aresta(self, n1, n2, mao_dupla=True):\n",
    "        self.adj[n1].append(n2)\n",
    "        \n",
    "        if mao_dupla:\n",
    "            self.adj[n2].append(n1)\n",
    "            \n",
    "        \n",
    "    def obter_vizinhos(self, n):\n",
    "        return self.adj[n]\n",
    "\n",
    "    def __visitar(self, node):\n",
    "        self.__visitado[node] = 1\n",
    "        self.ordem_visitados.append(node)\n",
    "\n",
    "    \n",
    "    def __dfs(self, n):\n",
    "        self.__visit(n)\n",
    "        for vizinho in self.obter_vizinho(n):\n",
    "            if self.__visitado[vizinho] == 0:\n",
    "                self.__dfs(vizinho)\n",
    "\n",
    "    def DFS(self, n):\n",
    "        self.__visitado = [0]*len(self.adj)\n",
    "        self.ordem_visitados = []\n",
    "        self.__dfs(n)\n",
    "        return self.ordem_visitados"
   ]
  },
  {
   "cell_type": "code",
   "execution_count": null,
   "metadata": {},
   "outputs": [],
   "source": [
    "g3 = GrafoLA(7)\n",
    "g3.adiciona_aresta(0, 1)\n",
    "g3.adiciona_aresta(0, 2)\n",
    "g3.adiciona_aresta(1, 2)\n",
    "g3.adiciona_aresta(1, 3)\n",
    "g3.adiciona_aresta(2, 4)\n",
    "g3.adiciona_aresta(3, 4)\n",
    "g3.adiciona_aresta(4, 5)\n",
    "g3.adiciona_aresta(5, 6)\n",
    "print(g3, \"\\n\")\n",
    "\n",
    "visited_order = g3.DFS(4)\n",
    "visited_order"
   ]
  },
  {
   "attachments": {},
   "cell_type": "markdown",
   "metadata": {},
   "source": [
    "#### Busca em largura (BFS - Breadth First Search)\n",
    "\n",
    "Visita os nós em camadas. Primeiro os que são adjacentes (nível 0). Depois os que estão no próximo nível de distância do nó inicial. Assim até visitar todos os nós.\n",
    "\n",
    "A figura abaixo mostra um exemplo gráfico desse comportamento em camadas.\n",
    "\n",
    "<img src=\"https://s3-sa-east-1.amazonaws.com/lcpi/a67dd98f-8578-4bda-a710-903d7de9ceb6.jpg\" width=600>\n",
    "\n",
    "A ordem de visitação dos nós não é importante no BFS, desde que sejam respeitados os níveis."
   ]
  },
  {
   "attachments": {},
   "cell_type": "markdown",
   "metadata": {},
   "source": [
    "#### Atividade:\n",
    "\n",
    "Implemente o BFS na classe GrafoLA, com a seguinte assinatura:\n",
    "\n",
    "BFS(self, n) -> List[n]"
   ]
  },
  {
   "cell_type": "code",
   "execution_count": null,
   "metadata": {},
   "outputs": [],
   "source": [
    "# BFS(n) -> ordem_visitados\n",
    "# Inicia no vértice n. Para cada vértice vizinho, \n",
    "# visitado[vizinho] = 1 se vizinho já foi visitado. \n",
    "# visitado[] é inicializado com zeros.\n",
    "# ordem_visitados[] e existe somente para \n",
    "# visualizarmos a ordem ao final\n",
    "\n",
    "# nao_visitados := []\n",
    "# ordem_visitados := []\n",
    "# visitado[n] := 1\n",
    "# adiciona n em ordem_visitados\n",
    "# repete:\n",
    "#   para cada vertice vizinho adjacente de n faça\n",
    "#       se visitado[vizinho] = 0 então\n",
    "#           adiciona vizinho em nao_visitados\n",
    "#           visitado[vizinho] := 1\n",
    "#           adiciona vizinho em ordem_visitados\n",
    "#   se nao_visitados esta vazio então retorna ordem_visitados\n",
    "#   n := remove n de nao_visitados"
   ]
  },
  {
   "cell_type": "code",
   "execution_count": 6,
   "metadata": {},
   "outputs": [],
   "source": [
    "class GrafoLA:\n",
    "    def __init__(self, n):\n",
    "        self.adj = [[] for _ in range(n)]\n",
    "        self.__visitado = []\n",
    "        self.ordem_visitados = []\n",
    "    \n",
    "    \n",
    "    def __repr__(self):\n",
    "        return '\\n'.join([str(line) for line in self.adj])\n",
    "        \n",
    "    \n",
    "    def adiciona_aresta(self, n1, n2, mao_dupla=True):\n",
    "        self.adj[n1].append(n2)\n",
    "        \n",
    "        if mao_dupla:\n",
    "            self.adj[n2].append(n1)\n",
    "            \n",
    "        \n",
    "    def obter_vizinhos(self, n):\n",
    "        return self.adj[n]\n",
    "\n",
    "    def __visitar(self, node):\n",
    "        self.__visitado[node] = 1\n",
    "        self.ordem_visitados.append(node)\n",
    "\n",
    "    \n",
    "    def __dfs(self, n):\n",
    "        self.__visit(n)\n",
    "        for vizinho in self.obter_vizinho(n):\n",
    "            if self.__visitado[vizinho] == 0:\n",
    "                self.__dfs(vizinho)\n",
    "\n",
    "    def DFS(self, n):\n",
    "        self.__visitado = [0]*len(self.adj)\n",
    "        self.ordem_visitados = []\n",
    "        self.__dfs(n)\n",
    "        return self.ordem_visitados\n",
    "\n",
    "\n",
    "    def BFS(self, n):\n",
    "        self.__visitado = [0]*len(self.adj)\n",
    "        self.ordem_visitados = []\n",
    "        nao_visitados = []\n",
    "        \n",
    "        self.__visitar(n)\n",
    "        \n",
    "        while True:\n",
    "            for vizinho in self.obter_vizinhos(n):\n",
    "                if self.__visitado[vizinho] == 0:\n",
    "                    nao_visitados.append(vizinho)\n",
    "                    self.__visitar(vizinho)\n",
    "            if not nao_visitados:\n",
    "                return self.ordem_visitados\n",
    "            n = nao_visitados.pop(0)"
   ]
  },
  {
   "attachments": {},
   "cell_type": "markdown",
   "metadata": {},
   "source": [
    "<img src=\"https://s3-sa-east-1.amazonaws.com/lcpi/9775dad0-c900-42e9-87fa-41d78b73444c.jpg\" width=500>"
   ]
  },
  {
   "cell_type": "code",
   "execution_count": 7,
   "metadata": {},
   "outputs": [
    {
     "name": "stdout",
     "output_type": "stream",
     "text": [
      "[1, 2]\n",
      "[0, 2, 3]\n",
      "[0, 1, 4]\n",
      "[1, 4]\n",
      "[2, 3, 5]\n",
      "[4, 6]\n",
      "[5] \n",
      "\n"
     ]
    },
    {
     "data": {
      "text/plain": [
       "[4, 2, 3, 5, 0, 1, 6]"
      ]
     },
     "execution_count": 7,
     "metadata": {},
     "output_type": "execute_result"
    }
   ],
   "source": [
    "g3 = GrafoLA(7)\n",
    "g3.adiciona_aresta(0, 1)\n",
    "g3.adiciona_aresta(0, 2)\n",
    "g3.adiciona_aresta(1, 2)\n",
    "g3.adiciona_aresta(1, 3)\n",
    "g3.adiciona_aresta(2, 4)\n",
    "g3.adiciona_aresta(3, 4)\n",
    "g3.adiciona_aresta(4, 5)\n",
    "g3.adiciona_aresta(5, 6)\n",
    "print(g3, \"\\n\")\n",
    "\n",
    "visited_order = g3.BFS(4)\n",
    "visited_order"
   ]
  },
  {
   "attachments": {},
   "cell_type": "markdown",
   "metadata": {},
   "source": [
    "____________________"
   ]
  },
  {
   "attachments": {},
   "cell_type": "markdown",
   "metadata": {},
   "source": [
    "## 1) Grafos com networkx\n",
    "\n",
    "Agoravamos aprender como usar a biblioteca [NetworkX!](https://networkx.org/) para a análise de grafos/redes em Python!\n",
    "\n",
    "<img src=\"https://networkx.org/_static/networkx_logo.svg\">\n",
    "\n",
    "Primeiramente, se ainda não tiver instalado, instale a biblioteca com:\n",
    "\n",
    "`!pip install networkx`"
   ]
  },
  {
   "cell_type": "code",
   "execution_count": null,
   "metadata": {},
   "outputs": [],
   "source": [
    "pip install networkx\n"
   ]
  },
  {
   "cell_type": "code",
   "execution_count": null,
   "metadata": {},
   "outputs": [],
   "source": [
    "pip install scipy"
   ]
  },
  {
   "cell_type": "code",
   "execution_count": 8,
   "metadata": {},
   "outputs": [],
   "source": [
    "import networkx as nx\n",
    "import numpy as np\n",
    "import scipy as sp"
   ]
  },
  {
   "attachments": {},
   "cell_type": "markdown",
   "metadata": {},
   "source": [
    "Agora vamos recriar esses grafos com o networkx:"
   ]
  },
  {
   "attachments": {},
   "cell_type": "markdown",
   "metadata": {},
   "source": [
    "<img src=\"https://s3-sa-east-1.amazonaws.com/lcpi/1f5e0fd3-572c-479a-8a53-74d8212c5e5c.jpg\" width=500>"
   ]
  },
  {
   "cell_type": "code",
   "execution_count": 9,
   "metadata": {},
   "outputs": [
    {
     "name": "stdout",
     "output_type": "stream",
     "text": [
      "[[0 1 1 0 0 0 0]\n",
      " [1 0 1 1 0 0 0]\n",
      " [1 1 0 0 1 0 0]\n",
      " [0 1 0 0 1 0 0]\n",
      " [0 0 1 1 0 1 0]\n",
      " [0 0 0 0 1 0 1]\n",
      " [0 0 0 0 0 1 0]]\n"
     ]
    }
   ],
   "source": [
    "g1 = nx.Graph()\n",
    "\n",
    "# adicionando um nó sem ligação\n",
    "# https://networkx.org/documentation/stable/reference/classes/generated/networkx.Graph.add_node.html\n",
    "g1.add_node(0)\n",
    "g1.add_node(1)\n",
    "g1.add_node(2)\n",
    "g1.add_node(3)\n",
    "g1.add_node(4)\n",
    "g1.add_node(5)\n",
    "g1.add_node(6)\n",
    "\n",
    "# adicionando as ligações:\n",
    "# https://networkx.org/documentation/stable/reference/classes/generated/networkx.Graph.add_edge.html\n",
    "g1.add_edge(0, 1)\n",
    "g1.add_edge(0, 2)\n",
    "\n",
    "g1.add_edge(1, 2)\n",
    "g1.add_edge(1, 3)\n",
    "\n",
    "g1.add_edge(2, 4)\n",
    "\n",
    "g1.add_edge(3, 4)\n",
    "\n",
    "g1.add_edge(4, 3)\n",
    "g1.add_edge(4, 5)\n",
    "\n",
    "g1.add_edge(5, 6)\n",
    "\n",
    "#############################\n",
    "# https://networkx.org/documentation/stable/reference/generated/networkx.linalg.graphmatrix.adjacency_matrix.html\n",
    "m1 = nx.adjacency_matrix(g1).todense()\n",
    "\n",
    "print(m1)"
   ]
  },
  {
   "attachments": {},
   "cell_type": "markdown",
   "metadata": {},
   "source": [
    "<img src=\"https://algoritmosempython.com.br/images/algoritmos-python/algoritmos-grafos/GrafoMatrizAdjacencia.png\" width=400>"
   ]
  },
  {
   "cell_type": "code",
   "execution_count": 10,
   "metadata": {},
   "outputs": [
    {
     "name": "stdout",
     "output_type": "stream",
     "text": [
      "[[0 1 0 0 0]\n",
      " [0 0 1 1 0]\n",
      " [0 1 0 0 1]\n",
      " [1 0 0 0 0]\n",
      " [0 1 0 0 0]]\n"
     ]
    }
   ],
   "source": [
    "# https://networkx.org/documentation/stable/reference/classes/digraph.html\n",
    "g2 = nx.DiGraph()\n",
    "\n",
    "g2.add_node(0)\n",
    "g2.add_node(1)\n",
    "g2.add_node(2)\n",
    "g2.add_node(3)\n",
    "g2.add_node(4)\n",
    "\n",
    "\n",
    "g2.add_edge(0,1)\n",
    "\n",
    "g2.add_edge(1,2)\n",
    "g2.add_edge(1,3)\n",
    "\n",
    "g2.add_edge(2,1)\n",
    "g2.add_edge(2,4)\n",
    "\n",
    "g2.add_edge(3,0)\n",
    "\n",
    "g2.add_edge(4,1)\n",
    "\n",
    "# https://networkx.org/documentation/stable/reference/generated/networkx.linalg.graphmatrix.adjacency_matrix.html\n",
    "\n",
    "m2 = nx.adjacency_matrix(g2).todense()\n",
    "print(m2)\n"
   ]
  },
  {
   "attachments": {},
   "cell_type": "markdown",
   "metadata": {},
   "source": [
    "<img src=\"https://www.researchgate.net/profile/Paula-Gabrielly-Rodrigues/publication/326722760/figure/fig5/AS:654507780345864@1533058223380/Figura-4-7-Grafo-nao-ponderado-A-e-ponderado-B-com-suas-respectivas-matrizes-de.png\" width=500> "
   ]
  },
  {
   "cell_type": "code",
   "execution_count": null,
   "metadata": {},
   "outputs": [],
   "source": []
  },
  {
   "attachments": {},
   "cell_type": "markdown",
   "metadata": {},
   "source": [
    "O objeto g1 tem uns atributos importantes:"
   ]
  },
  {
   "cell_type": "code",
   "execution_count": 11,
   "metadata": {},
   "outputs": [
    {
     "data": {
      "text/plain": [
       "NodeView((0, 1, 2, 3, 4, 5, 6))"
      ]
     },
     "execution_count": 11,
     "metadata": {},
     "output_type": "execute_result"
    }
   ],
   "source": [
    "g1.nodes"
   ]
  },
  {
   "cell_type": "code",
   "execution_count": 12,
   "metadata": {},
   "outputs": [
    {
     "data": {
      "text/plain": [
       "7"
      ]
     },
     "execution_count": 12,
     "metadata": {},
     "output_type": "execute_result"
    }
   ],
   "source": [
    "g1.number_of_nodes()"
   ]
  },
  {
   "cell_type": "code",
   "execution_count": 13,
   "metadata": {},
   "outputs": [
    {
     "data": {
      "text/plain": [
       "EdgeView([(0, 1), (0, 2), (1, 2), (1, 3), (2, 4), (3, 4), (4, 5), (5, 6)])"
      ]
     },
     "execution_count": 13,
     "metadata": {},
     "output_type": "execute_result"
    }
   ],
   "source": [
    "g1.edges"
   ]
  },
  {
   "cell_type": "code",
   "execution_count": 14,
   "metadata": {},
   "outputs": [
    {
     "data": {
      "text/plain": [
       "8"
      ]
     },
     "execution_count": 14,
     "metadata": {},
     "output_type": "execute_result"
    }
   ],
   "source": [
    "g1.number_of_edges()"
   ]
  },
  {
   "attachments": {},
   "cell_type": "markdown",
   "metadata": {},
   "source": [
    "Para visualizarmos o grafo, existe a função `draw_netowrk()`:"
   ]
  },
  {
   "cell_type": "code",
   "execution_count": 17,
   "metadata": {},
   "outputs": [
    {
     "data": {
      "image/png": "[encoded data removed]",
      "text/plain": [
       "<Figure size 640x480 with 1 Axes>"
      ]
     },
     "metadata": {},
     "output_type": "display_data"
    }
   ],
   "source": [
    "nx.draw_networkx(g1)"
   ]
  },
  {
   "attachments": {},
   "cell_type": "markdown",
   "metadata": {},
   "source": [
    "Toda vez que o método é executado, o grafo aparece em uma posição aleatória. Isso porque o algoritmo de plotagem do networkx se utiliza de seeds aleatórias para a posição inicial do grafo.\n",
    "\n",
    "É possível entender qual foi a posição escolhida, usando a função `spring_layout()`:"
   ]
  },
  {
   "cell_type": "code",
   "execution_count": 18,
   "metadata": {},
   "outputs": [
    {
     "data": {
      "text/plain": [
       "{0: array([-0.13317218, -0.79677282]),\n",
       " 1: array([-0.36117115, -0.5014655 ]),\n",
       " 2: array([-0.01505038, -0.38783578]),\n",
       " 3: array([-0.38267027, -0.06549295]),\n",
       " 4: array([0.02956378, 0.13511329]),\n",
       " 5: array([0.31164107, 0.61645376]),\n",
       " 6: array([0.55085913, 1.        ])}"
      ]
     },
     "execution_count": 18,
     "metadata": {},
     "output_type": "execute_result"
    }
   ],
   "source": [
    "my_pos = nx.spring_layout(g1, seed = 42)\n",
    "\n",
    "my_pos"
   ]
  },
  {
   "attachments": {},
   "cell_type": "markdown",
   "metadata": {},
   "source": [
    "Se quisermos que essa sempre seja a posição, basta fixarmos a seed e passar esse dicionário pra função de plot, como o argumento `pos`:"
   ]
  },
  {
   "cell_type": "code",
   "execution_count": 21,
   "metadata": {},
   "outputs": [
    {
     "data": {
      "image/png": "[encoded data removed]",
      "text/plain": [
       "<Figure size 640x480 with 1 Axes>"
      ]
     },
     "metadata": {},
     "output_type": "display_data"
    }
   ],
   "source": [
    "my_pos = nx.spring_layout(g1, seed = 42)\n",
    "\n",
    "nx.draw_networkx(g1, pos=my_pos)"
   ]
  },
  {
   "attachments": {},
   "cell_type": "markdown",
   "metadata": {},
   "source": [
    "Depois vamos ver outros argumentos interessantes pra controlar a aparência do plot -- mas **explore você mesmo**!"
   ]
  },
  {
   "attachments": {},
   "cell_type": "markdown",
   "metadata": {},
   "source": [
    "Podemos recuperar a matriz de adjacência referente ao grafo:"
   ]
  },
  {
   "cell_type": "code",
   "execution_count": 22,
   "metadata": {},
   "outputs": [],
   "source": [
    "m1 = nx.adjacency_matrix(g1)"
   ]
  },
  {
   "attachments": {},
   "cell_type": "markdown",
   "metadata": {},
   "source": [
    "Por padrão, a matriz é representada de maneira esparsa:"
   ]
  },
  {
   "cell_type": "code",
   "execution_count": 23,
   "metadata": {},
   "outputs": [
    {
     "data": {
      "text/plain": [
       "<7x7 sparse array of type '<class 'numpy.intc'>'\n",
       "\twith 16 stored elements in Compressed Sparse Row format>"
      ]
     },
     "execution_count": 23,
     "metadata": {},
     "output_type": "execute_result"
    }
   ],
   "source": [
    "m1"
   ]
  },
  {
   "attachments": {},
   "cell_type": "markdown",
   "metadata": {},
   "source": [
    "Caso se deseje visualizar a matriz completa, densa:"
   ]
  },
  {
   "cell_type": "code",
   "execution_count": 24,
   "metadata": {},
   "outputs": [
    {
     "data": {
      "text/plain": [
       "array([[0, 1, 1, 0, 0, 0, 0],\n",
       "       [1, 0, 1, 1, 0, 0, 0],\n",
       "       [1, 1, 0, 0, 1, 0, 0],\n",
       "       [0, 1, 0, 0, 1, 0, 0],\n",
       "       [0, 0, 1, 1, 0, 1, 0],\n",
       "       [0, 0, 0, 0, 1, 0, 1],\n",
       "       [0, 0, 0, 0, 0, 1, 0]], dtype=int32)"
      ]
     },
     "execution_count": 24,
     "metadata": {},
     "output_type": "execute_result"
    }
   ],
   "source": [
    "m1.todense()"
   ]
  },
  {
   "attachments": {},
   "cell_type": "markdown",
   "metadata": {},
   "source": [
    "Lembrando que os nós aparecem segundo a ordem em que os criamos! \n",
    "\n",
    "Esta ordem pode ser visualizada com:"
   ]
  },
  {
   "cell_type": "code",
   "execution_count": null,
   "metadata": {},
   "outputs": [],
   "source": [
    "g1.nodes"
   ]
  },
  {
   "attachments": {},
   "cell_type": "markdown",
   "metadata": {},
   "source": [
    "Também é possível recuperar a lista de adjacência:"
   ]
  },
  {
   "cell_type": "code",
   "execution_count": 25,
   "metadata": {},
   "outputs": [
    {
     "data": {
      "text/plain": [
       "{0: {1: {}, 2: {}},\n",
       " 1: {0: {}, 2: {}, 3: {}},\n",
       " 2: {0: {}, 1: {}, 4: {}},\n",
       " 3: {1: {}, 4: {}},\n",
       " 4: {2: {}, 3: {}, 5: {}},\n",
       " 5: {4: {}, 6: {}},\n",
       " 6: {5: {}}}"
      ]
     },
     "execution_count": 25,
     "metadata": {},
     "output_type": "execute_result"
    }
   ],
   "source": [
    "g1._adj"
   ]
  },
  {
   "attachments": {},
   "cell_type": "markdown",
   "metadata": {},
   "source": [
    "Uma outra forma:"
   ]
  },
  {
   "cell_type": "code",
   "execution_count": 26,
   "metadata": {},
   "outputs": [
    {
     "data": {
      "text/plain": [
       "<generator object generate_adjlist at 0x000001D1C82D6340>"
      ]
     },
     "execution_count": 26,
     "metadata": {},
     "output_type": "execute_result"
    }
   ],
   "source": [
    "nx.generate_adjlist(g1)"
   ]
  },
  {
   "cell_type": "code",
   "execution_count": 27,
   "metadata": {},
   "outputs": [
    {
     "name": "stdout",
     "output_type": "stream",
     "text": [
      "0 1 2\n",
      "1 2 3\n",
      "2 4\n",
      "3 4\n",
      "4 5\n",
      "5 6\n",
      "6\n"
     ]
    }
   ],
   "source": [
    "for item in nx.generate_adjlist(g1):\n",
    "    \n",
    "    print(item)"
   ]
  },
  {
   "cell_type": "code",
   "execution_count": null,
   "metadata": {},
   "outputs": [],
   "source": [
    "[item for item in nx.generate_adjlist(g1)]"
   ]
  },
  {
   "cell_type": "code",
   "execution_count": null,
   "metadata": {},
   "outputs": [],
   "source": [
    "list(nx.generate_adjlist(g1))"
   ]
  },
  {
   "attachments": {},
   "cell_type": "markdown",
   "metadata": {},
   "source": [
    "Caso queiramos percorrer o grafo, o networkx nos disponibiliza [algoritmos de percurso:](https://networkx.org/documentation/stable/reference/algorithms/simple_paths.html)"
   ]
  },
  {
   "cell_type": "code",
   "execution_count": 28,
   "metadata": {},
   "outputs": [
    {
     "data": {
      "image/png": "[encoded data removed]",
      "text/plain": [
       "<Figure size 640x480 with 1 Axes>"
      ]
     },
     "metadata": {},
     "output_type": "display_data"
    }
   ],
   "source": [
    "my_pos = {0: [-0.9, 0.4],\n",
    "          1: [-1, 1],\n",
    "          2: [-0.7, 0.2],\n",
    "          3: [-0.8, 0.8],\n",
    "          4: [-0.5, 1],\n",
    "          5: [-0.4, 0.4],\n",
    "          6: [-0.3, 0.8]}\n",
    "\n",
    "nx.draw_networkx(g1, pos=my_pos)"
   ]
  },
  {
   "cell_type": "code",
   "execution_count": 29,
   "metadata": {},
   "outputs": [
    {
     "data": {
      "text/plain": [
       "<generator object _all_simple_paths_graph at 0x000001D1C82D6C00>"
      ]
     },
     "execution_count": 29,
     "metadata": {},
     "output_type": "execute_result"
    }
   ],
   "source": [
    "nx.all_simple_paths(g1, 1, 5)"
   ]
  },
  {
   "cell_type": "code",
   "execution_count": 30,
   "metadata": {},
   "outputs": [
    {
     "data": {
      "text/plain": [
       "[[1, 0, 2, 4, 5], [1, 2, 4, 5], [1, 3, 4, 5]]"
      ]
     },
     "execution_count": 30,
     "metadata": {},
     "output_type": "execute_result"
    }
   ],
   "source": [
    "caminhos = []\n",
    "\n",
    "for path in nx.all_simple_paths(g1, 1, 5):\n",
    "    \n",
    "    caminhos.append(path)\n",
    "    \n",
    "caminhos"
   ]
  },
  {
   "cell_type": "code",
   "execution_count": 32,
   "metadata": {},
   "outputs": [
    {
     "data": {
      "text/plain": [
       "[[1, 0, 2, 4, 5], [1, 2, 4, 5], [1, 3, 4, 5]]"
      ]
     },
     "execution_count": 32,
     "metadata": {},
     "output_type": "execute_result"
    }
   ],
   "source": [
    "[path for path in nx.all_simple_paths(g1, 1, 5)]"
   ]
  },
  {
   "attachments": {},
   "cell_type": "markdown",
   "metadata": {},
   "source": [
    "O networkx também disponibiliza [algoritmos de menor caminho!](https://networkx.org/documentation/stable/reference/algorithms/shortest_paths.html)"
   ]
  },
  {
   "cell_type": "code",
   "execution_count": 35,
   "metadata": {},
   "outputs": [
    {
     "data": {
      "text/plain": [
       "[1, 2, 4, 5]"
      ]
     },
     "execution_count": 35,
     "metadata": {},
     "output_type": "execute_result"
    }
   ],
   "source": [
    "# menor caminho sem considerar pesos!\n",
    "# obs: pode não ser único!\n",
    "\n",
    "nx.shortest_path(g1, 1, 5)"
   ]
  },
  {
   "cell_type": "code",
   "execution_count": 36,
   "metadata": {},
   "outputs": [
    {
     "data": {
      "text/plain": [
       "[[1, 2, 4, 5], [1, 3, 4, 5]]"
      ]
     },
     "execution_count": 36,
     "metadata": {},
     "output_type": "execute_result"
    }
   ],
   "source": [
    "[path for path in nx.all_shortest_paths(g1, 1, 5)]"
   ]
  },
  {
   "attachments": {},
   "cell_type": "markdown",
   "metadata": {},
   "source": [
    "_____________"
   ]
  },
  {
   "attachments": {},
   "cell_type": "markdown",
   "metadata": {},
   "source": [
    "Implemente o grafo ponderado ilustrado pela figura abaixo, utilizando as representações baseadas em:\n",
    "\n",
    "- matriz de adjacências;\n",
    "- lista de adjacências.\n",
    "\n",
    "Em seguida, exiba a matriz e a lista que representam o grafo.\n",
    "\n",
    "<img src=\"https://ucarecdn.com/a67cb888-aa0c-424b-8c7f-847e38dd5691/\" width=300>"
   ]
  },
  {
   "cell_type": "code",
   "execution_count": 37,
   "metadata": {},
   "outputs": [],
   "source": [
    "g3 = nx.Graph()\n",
    "\n",
    "g3.add_node(0)\n",
    "g3.add_node(1)\n",
    "g3.add_node(2)\n",
    "g3.add_node(3)\n",
    "g3.add_node(4)\n",
    "\n",
    "g3.add_edge(0, 4, weight=8)\n",
    "g3.add_edge(0, 1, weight=3)\n",
    "g3.add_edge(0, 3, weight=7)\n",
    "\n",
    "g3.add_edge(1, 2, weight=1)\n",
    "g3.add_edge(1, 3, weight=4)\n",
    "\n",
    "g3.add_edge(2, 3, weight=2)\n",
    "\n",
    "g3.add_edge(3, 4, weight=3)"
   ]
  },
  {
   "cell_type": "code",
   "execution_count": 38,
   "metadata": {},
   "outputs": [
    {
     "data": {
      "image/png": "[encoded data removed]",
      "text/plain": [
       "<Figure size 640x480 with 1 Axes>"
      ]
     },
     "metadata": {},
     "output_type": "display_data"
    }
   ],
   "source": [
    "nx.draw_networkx(g3, node_color=\"yellow\")"
   ]
  },
  {
   "attachments": {},
   "cell_type": "markdown",
   "metadata": {},
   "source": [
    "Caso queira plotar com os pesos:"
   ]
  },
  {
   "cell_type": "code",
   "execution_count": 39,
   "metadata": {},
   "outputs": [
    {
     "data": {
      "text/plain": [
       "{0: array([0.08484587, 0.46494042]),\n",
       " 1: array([ 0.46744917, -0.20726489]),\n",
       " 2: array([-0.1077903, -1.       ]),\n",
       " 3: array([-0.12125833, -0.01623777]),\n",
       " 4: array([-0.32324642,  0.75856224])}"
      ]
     },
     "execution_count": 39,
     "metadata": {},
     "output_type": "execute_result"
    }
   ],
   "source": [
    "pos = nx.spring_layout(g3) \n",
    "\n",
    "pos"
   ]
  },
  {
   "cell_type": "code",
   "execution_count": 40,
   "metadata": {},
   "outputs": [
    {
     "data": {
      "text/plain": [
       "{(0, 4): 8, (0, 1): 3, (0, 3): 7, (1, 2): 1, (1, 3): 4, (2, 3): 2, (3, 4): 3}"
      ]
     },
     "execution_count": 40,
     "metadata": {},
     "output_type": "execute_result"
    }
   ],
   "source": [
    "labels = nx.get_edge_attributes(g3, 'weight')\n",
    "\n",
    "labels"
   ]
  },
  {
   "cell_type": "code",
   "execution_count": 43,
   "metadata": {},
   "outputs": [
    {
     "data": {
      "image/png": "[encoded data removed]",
      "text/plain": [
       "<Figure size 640x480 with 1 Axes>"
      ]
     },
     "metadata": {},
     "output_type": "display_data"
    }
   ],
   "source": [
    "import matplotlib.pyplot as plt\n",
    "pos = nx.spring_layout(g3, seed=42) \n",
    "nx.draw_networkx(g3, pos, node_color=\"yellow\")\n",
    "\n",
    "labels = nx.get_edge_attributes(g3, 'weight')\n",
    "nx.draw_networkx_edge_labels(g3, pos, edge_labels=labels)\n",
    "\n",
    "plt.show()"
   ]
  },
  {
   "attachments": {},
   "cell_type": "markdown",
   "metadata": {},
   "source": [
    "Engrossando a largura das ligações proporcionalmente ao peso:"
   ]
  },
  {
   "cell_type": "code",
   "execution_count": 44,
   "metadata": {},
   "outputs": [
    {
     "data": {
      "text/plain": [
       "dict_values([8, 3, 7, 1, 4, 2, 3])"
      ]
     },
     "execution_count": 44,
     "metadata": {},
     "output_type": "execute_result"
    }
   ],
   "source": [
    "labels.values()"
   ]
  },
  {
   "cell_type": "code",
   "execution_count": 45,
   "metadata": {},
   "outputs": [
    {
     "data": {
      "text/plain": [
       "[6.4,\n",
       " 2.4000000000000004,\n",
       " 5.6000000000000005,\n",
       " 0.8,\n",
       " 3.2,\n",
       " 1.6,\n",
       " 2.4000000000000004]"
      ]
     },
     "execution_count": 45,
     "metadata": {},
     "output_type": "execute_result"
    }
   ],
   "source": [
    "[x*0.8 for x in labels.values()]"
   ]
  },
  {
   "cell_type": "code",
   "execution_count": 46,
   "metadata": {},
   "outputs": [
    {
     "data": {
      "image/png": "[encoded data removed]",
      "text/plain": [
       "<Figure size 640x480 with 1 Axes>"
      ]
     },
     "metadata": {},
     "output_type": "display_data"
    }
   ],
   "source": [
    "pos = nx.spring_layout(g3, seed=42) \n",
    "nx.draw_networkx(g3, pos, node_color=\"yellow\", width=[x*0.8 for x in labels.values()])\n",
    "\n",
    "labels = nx.get_edge_attributes(g3, 'weight')\n",
    "nx.draw_networkx_edge_labels(g3, pos, edge_labels=labels)\n",
    "\n",
    "plt.show()"
   ]
  },
  {
   "attachments": {},
   "cell_type": "markdown",
   "metadata": {},
   "source": [
    "As duas representações:"
   ]
  },
  {
   "cell_type": "code",
   "execution_count": 47,
   "metadata": {},
   "outputs": [
    {
     "data": {
      "text/plain": [
       "array([[0, 3, 0, 7, 8],\n",
       "       [3, 0, 1, 4, 0],\n",
       "       [0, 1, 0, 2, 0],\n",
       "       [7, 4, 2, 0, 3],\n",
       "       [8, 0, 0, 3, 0]], dtype=int32)"
      ]
     },
     "execution_count": 47,
     "metadata": {},
     "output_type": "execute_result"
    }
   ],
   "source": [
    "m3 = nx.adjacency_matrix(g3).todense()\n",
    "\n",
    "m3"
   ]
  },
  {
   "cell_type": "code",
   "execution_count": 48,
   "metadata": {},
   "outputs": [
    {
     "data": {
      "text/plain": [
       "[[{'weight': 8, 'id': 4}, {'weight': 3, 'id': 1}, {'weight': 7, 'id': 3}],\n",
       " [{'weight': 3, 'id': 0}, {'weight': 1, 'id': 2}, {'weight': 4, 'id': 3}],\n",
       " [{'weight': 1, 'id': 1}, {'weight': 2, 'id': 3}],\n",
       " [{'weight': 7, 'id': 0},\n",
       "  {'weight': 4, 'id': 1},\n",
       "  {'weight': 2, 'id': 2},\n",
       "  {'weight': 3, 'id': 4}],\n",
       " [{'weight': 8, 'id': 0}, {'weight': 3, 'id': 3}]]"
      ]
     },
     "execution_count": 48,
     "metadata": {},
     "output_type": "execute_result"
    }
   ],
   "source": [
    "nx.adjacency_data(g3)[\"adjacency\"]"
   ]
  },
  {
   "attachments": {},
   "cell_type": "markdown",
   "metadata": {},
   "source": [
    "Vejamos todos os caminhos entre os nós 1 e 4:"
   ]
  },
  {
   "cell_type": "code",
   "execution_count": 49,
   "metadata": {},
   "outputs": [
    {
     "data": {
      "text/plain": [
       "[[1, 0, 4],\n",
       " [1, 0, 3, 4],\n",
       " [1, 2, 3, 0, 4],\n",
       " [1, 2, 3, 4],\n",
       " [1, 3, 0, 4],\n",
       " [1, 3, 4]]"
      ]
     },
     "execution_count": 49,
     "metadata": {},
     "output_type": "execute_result"
    }
   ],
   "source": [
    "[path for path in nx.all_simple_paths(g3, 1, 4)]"
   ]
  },
  {
   "cell_type": "code",
   "execution_count": 50,
   "metadata": {},
   "outputs": [
    {
     "data": {
      "text/plain": [
       "[([1, 0, 4], 11),\n",
       " ([1, 0, 3, 4], 13),\n",
       " ([1, 2, 3, 0, 4], 18),\n",
       " ([1, 2, 3, 4], 6),\n",
       " ([1, 3, 0, 4], 19),\n",
       " ([1, 3, 4], 7)]"
      ]
     },
     "execution_count": 50,
     "metadata": {},
     "output_type": "execute_result"
    }
   ],
   "source": [
    "# todos os caminhos simples e as respectivas somas de pesos\n",
    "\n",
    "[(path, \n",
    "  nx.path_weight(g3, path, weight=\"weight\")) for path in nx.all_simple_paths(g3, 1, 4)]"
   ]
  },
  {
   "attachments": {},
   "cell_type": "markdown",
   "metadata": {},
   "source": [
    "Considerando pesos para o menor caminho, temos dijkstra!"
   ]
  },
  {
   "cell_type": "code",
   "execution_count": 51,
   "metadata": {},
   "outputs": [
    {
     "data": {
      "text/plain": [
       "[1, 2, 3, 4]"
      ]
     },
     "execution_count": 51,
     "metadata": {},
     "output_type": "execute_result"
    }
   ],
   "source": [
    "nx.dijkstra_path(g3, 1, 4)"
   ]
  },
  {
   "attachments": {},
   "cell_type": "markdown",
   "metadata": {},
   "source": [
    "Caso queira saber o comprimento do menor caminho:"
   ]
  },
  {
   "cell_type": "code",
   "execution_count": 52,
   "metadata": {},
   "outputs": [
    {
     "data": {
      "text/plain": [
       "6"
      ]
     },
     "execution_count": 52,
     "metadata": {},
     "output_type": "execute_result"
    }
   ],
   "source": [
    "nx.dijkstra_path_length(g3, 1, 4)"
   ]
  },
  {
   "cell_type": "code",
   "execution_count": 53,
   "metadata": {},
   "outputs": [
    {
     "data": {
      "text/plain": [
       "([1, 2, 3, 4], 6)"
      ]
     },
     "execution_count": 53,
     "metadata": {},
     "output_type": "execute_result"
    }
   ],
   "source": [
    "(nx.dijkstra_path(g3, 1, 4), nx.dijkstra_path_length(g3, 1, 4))"
   ]
  }
 ],
 "metadata": {
  "kernelspec": {
   "display_name": "Python 3",
   "language": "python",
   "name": "python3"
  },
  "language_info": {
   "codemirror_mode": {
    "name": "ipython",
    "version": 3
   },
   "file_extension": ".py",
   "mimetype": "text/x-python",
   "name": "python",
   "nbconvert_exporter": "python",
   "pygments_lexer": "ipython3",
   "version": "3.10.5 (tags/v3.10.5:f377153, Jun  6 2022, 16:14:13) [MSC v.1929 64 bit (AMD64)]"
  },
  "orig_nbformat": 4,
  "vscode": {
   "interpreter": {
    "hash": "42478136ef40f8edd3f4cf991c33cffcfc620a666d0dc328e82cc0ef4d7b2c04"
   }
  }
 },
 "nbformat": 4,
 "nbformat_minor": 2
}
