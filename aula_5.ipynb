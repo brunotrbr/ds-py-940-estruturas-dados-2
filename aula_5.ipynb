{
  "cells": [
    {
      "cell_type": "markdown",
      "metadata": {
        "id": "XkSA3IzqalaU"
      },
      "source": [
        "# Grafos (cont.)"
      ]
    },
    {
      "cell_type": "markdown",
      "metadata": {
        "id": "TyMO-LLqJBXO"
      },
      "source": [
        "### Menor caminho\n",
        "\n",
        "Como identificar o menor caminho entre 2 vértices? Esse problema também é chamado de **Single Source Shortest Path**, descrito abaixo:\n",
        " \n",
        "\n",
        "> Dado um grafo `G` e um **vértice origem** `v`, qual o **menor caminho** partindo de `v` até **cada vértice** `w` pertencente a `G`.\n",
        "\n",
        "&nbsp;\n",
        "\n",
        "Dado o grafo abaixo, qual o menor caminho partindo de 5 até 1?\n",
        "\n",
        "<img src=https://objectstorage.us-ashburn-1.oraclecloud.com/n/ida8x1uljntv/b/graph_images_ada/o/grafo_sem_peso.png width=500>"
      ]
    },
    {
      "cell_type": "markdown",
      "metadata": {
        "id": "DuB1GpdrJCE9"
      },
      "source": [
        "#### Menor caminho para grafos sem peso nas arestas (ou peso constante = 1)\n",
        "\n",
        "O menor caminho em um grafo sem pesos é o caminho com menos arestas, e a busca em largura (BFS) consegue encontrar ele.\n",
        "\n",
        "Já sabemos que um nó que está a uma aresta de distância da origem será visitado na primeira camada, um nó que está a duas arestas da origem será visitado na segunda, e assim por diante.\n",
        "\n",
        "Ou seja, os nós **já são visitados na ordem de menor caminho** e a **camada dá o custo desse caminho**.\n",
        "\n",
        "&nbsp;\n",
        "\n",
        "Em nossa implementação do BFS, trazemos somente a ordem dos nós visitados.\n",
        "\n",
        "Agora estamos interessados em mapear o caminho de um determinado nó para os outros nós.\n",
        "\n",
        "Portanto, vamos alterar a implementação dele para que esteja de acordo com nossas necessidades."
      ]
    },
    {
      "cell_type": "markdown",
      "metadata": {
        "id": "fx5PKXMZjp5J"
      },
      "source": [
        "#### Atividade\n",
        "\n",
        "Implementar esse algoritmo na classe GrafoLA"
      ]
    },
    {
      "cell_type": "code",
      "execution_count": null,
      "metadata": {
        "id": "WKMjmv_RbwH8"
      },
      "outputs": [],
      "source": [
        "# Pseudo código\n",
        "# classe GrafoLA:\n",
        "#   [resto do código]\n",
        "# def __menor_caminho(self, primeiro_nivel, caminhos, limite, juntar):\n",
        "#   nivel : = 0\n",
        "#   proximo_nivel := primeiro_nivel\n",
        "#   enquanto tiver proximo_nivel e limite > nivel faça:\n",
        "#     nivel_atual := proximo_nivel\n",
        "#     proximo_nivel := []\n",
        "#     para cada no em nivel_atual faça:\n",
        "#       para cada vizinho em obter_vizinhos(no):\n",
        "#         se vizinho nao esta nos caminhos:\n",
        "#           caminhos[vizinho] := juntar(caminhos[no], [vizinho])\n",
        "#           adiciona vizinho no proximo nivel\n",
        "#     nivel := nivel + 1\n",
        "#   retorna caminhos\n",
        "    \n",
        "#   def menor_caminho(self, no, limite=None):\n",
        "#     def juntar(p1, p2):\n",
        "#       retorna p1 + p2\n",
        "\n",
        "#     se limite é None:\n",
        "#       limite := float(\"inf\")\n",
        "#     proximo_nivel := [no]\n",
        "#     caminhos := {no: [no]}\n",
        "#     retorna dicionario(self.__menor_caminho(proximo_nivel, caminhos, limite, juntar))   \n",
        "\n"
      ]
    },
    {
      "cell_type": "markdown",
      "metadata": {
        "id": "RUwMotaqwfJF"
      },
      "source": [
        "<img src=https://objectstorage.us-ashburn-1.oraclecloud.com/n/ida8x1uljntv/b/graph_images_ada/o/grafo_sem_peso.png width=500>"
      ]
    },
    {
      "cell_type": "code",
      "execution_count": 14,
      "metadata": {
        "id": "m-EefSFgfGpE"
      },
      "outputs": [],
      "source": [
        "# Teste\n",
        "\n",
        "class GrafoLA:\n",
        "    def __init__(self, n):\n",
        "        self.adj = [[] for _ in range(n)]\n",
        "        self.__visitado = []\n",
        "        self.ordem_visitados = []\n",
        "\n",
        "    def __repr__(self):\n",
        "        return '\\n'.join([str(linha) for linha in self.adj])\n",
        "\n",
        "    def adiciona_aresta(self, n1, n2, mao_dupla=True):\n",
        "        self.adj[n1].append(n2)\n",
        "\n",
        "        if mao_dupla:\n",
        "            self.adj[n2].append(n1)\n",
        "\n",
        "    def obter_vizinhos(self, n):\n",
        "        return self.adj[n]\n",
        "\n",
        "    def __visitar(self, node):\n",
        "        self.__visitado[node] = 1\n",
        "        self.ordem_visitados.append(node)\n",
        "\n",
        "    def __dfs(self, n):\n",
        "        self.__visit(n)\n",
        "        for vizinho in self.obter_vizinhos(n):\n",
        "            if self.__visitado[vizinho] == 0:\n",
        "                self.__dfs(vizinho)\n",
        "\n",
        "    def DFS(self, n):\n",
        "        self.__visitado = [0] * len(self.adj)\n",
        "        self.ordem_visitados = []\n",
        "        self.__dfs(n)\n",
        "        return self.ordem_visitados\n",
        "\n",
        "    def BFS(self, n):\n",
        "        self.__visitado = [0] * len(self.adj)\n",
        "        self.ordem_visitados = []\n",
        "        nao_visitados = []\n",
        "\n",
        "        self.__visitar(n)\n",
        "\n",
        "        while True:\n",
        "            for vizinho in self.obter_vizinhos(n):\n",
        "                if self.__visitado[vizinho] == 0:\n",
        "                    nao_visitados.append(vizinho)\n",
        "                    self.__visitar(vizinho)\n",
        "            if not nao_visitados:\n",
        "                return self.ordem_visitados\n",
        "            n = nao_visitados.pop(0)\n",
        "\n",
        "    def __menor_caminho(self, primeiro_nivel, caminhos, limite, juntar):\n",
        "        nivel = 0\n",
        "        proximo_nivel = primeiro_nivel\n",
        "        while proximo_nivel and limite > nivel:\n",
        "            nivel_atual = proximo_nivel\n",
        "            proximo_nivel = []\n",
        "            for no in nivel_atual:\n",
        "                for vizinho in self.obter_vizinhos(no):\n",
        "                    if vizinho not in caminhos:\n",
        "                        caminhos[vizinho] = juntar(caminhos[no], [vizinho])\n",
        "                        proximo_nivel.append(vizinho)\n",
        "            nivel += 1\n",
        "        return caminhos\n",
        "\n",
        "    def menor_caminho(self, no, ordem_reversa=False, limite=None):\n",
        "        def juntar(p1, p2):\n",
        "            if ordem_reversa:\n",
        "                return p2 + p1\n",
        "            return p1 + p2\n",
        "\n",
        "        if limite is None:\n",
        "            limite = float(\"inf\")\n",
        "        proximo_nivel = [no]\n",
        "        caminhos = {no: [no]}\n",
        "        return dict(self.__menor_caminho(proximo_nivel, caminhos, limite, juntar))"
      ]
    },
    {
      "cell_type": "code",
      "execution_count": 18,
      "metadata": {},
      "outputs": [
        {
          "name": "stdout",
          "output_type": "stream",
          "text": [
            "{5: [5], 2: [5, 2], 4: [5, 4], 6: [5, 6], 3: [5, 2, 3], 1: [5, 2, 3, 1]}\n",
            "{1: [1], 3: [1, 3], 2: [1, 3, 2], 4: [1, 3, 4], 5: [1, 3, 2, 5], 6: [1, 3, 4, 6]}\n"
          ]
        }
      ],
      "source": [
        "g3 = GrafoLA(7)\n",
        "\n",
        "g3.adiciona_aresta(1, 3)\n",
        "g3.adiciona_aresta(3, 2)\n",
        "g3.adiciona_aresta(3, 4)\n",
        "g3.adiciona_aresta(2, 5)\n",
        "g3.adiciona_aresta(4, 5)\n",
        "g3.adiciona_aresta(4, 6)\n",
        "g3.adiciona_aresta(5, 5, False) # quando enviamos como mao_dupla, adiciona 2 vezes na lista de vizinhos\n",
        "g3.adiciona_aresta(5, 6)\n",
        "\n",
        "\n",
        "\n",
        "menores_caminhos = g3.menor_caminho(5)\n",
        "print(menores_caminhos)\n",
        "\n",
        "menores_caminhos = g3.menor_caminho(1)\n",
        "print(menores_caminhos)\n",
        "# estou saindo do nó 5\n",
        "# e as chaves do dicionario de menores caminhos são os nós de destino\n",
        "# {\n",
        "#   5: [5],\n",
        "#   6: [5, 6]   \n",
        "# }"
      ]
    },
    {
      "cell_type": "markdown",
      "metadata": {
        "id": "WmBJYif-eTka"
      },
      "source": [
        "#### Menor caminho para grafos com peso nas arestas\n",
        "\n",
        "Grafos sem custo nas arestas são muito utilizados e nesses casos a BFS com algumas modificações seria o suficiente para encontrar o menor caminho.\n",
        "\n",
        "Porém, muitas aplicações precisam levar em conta custos diferentes para cada aresta.\n",
        "\n",
        "Por exemplo a **distância entre duas cidades** ou o **custo de pedágio** para se utilizar determinada rodovia.\n",
        "\n",
        "A figura abaixo mostra um grafo com pesos nas aretas.\n",
        "\n",
        "\n",
        "\n",
        "\n",
        "\n"
      ]
    },
    {
      "cell_type": "markdown",
      "metadata": {
        "id": "rE5TjWhUenxi"
      },
      "source": [
        "<img src=https://objectstorage.us-ashburn-1.oraclecloud.com/n/ida8x1uljntv/b/graph_images_ada/o/grafo_com_peso.png width=500>\n",
        "\n",
        "Existem diferentes algoritmos para encontrar o menor caminho entre todos os vértices e um vértice origem (*Single Source Shortest Path Problem*)."
      ]
    },
    {
      "cell_type": "markdown",
      "metadata": {
        "id": "JgFygEdieriS"
      },
      "source": [
        "Que tal testarmos nossa implementação de menor caminho para grafos com pesos?\n",
        "\n",
        "Mas primeiro vamos alterar nosso GrafoLA para que suporte pesos nas arestas, criando uma nova classe chamada GrafoLAComPesos"
      ]
    },
    {
      "cell_type": "code",
      "execution_count": 11,
      "metadata": {
        "id": "x8Mb46ZxfOp9"
      },
      "outputs": [],
      "source": [
        "# classe GrafoLAComPesos\n",
        "#   def adiciona_aresta(self, n1, n2, peso=1, mao_dupla=True):\n",
        "\n",
        "class GrafoLAComPesos:\n",
        "    def __init__(self, n):\n",
        "        self.adj = [[] for _ in range(n)]\n",
        "        self.__visitado = []\n",
        "        self.ordem_visitados = []\n",
        "\n",
        "    def __repr__(self):\n",
        "        return '\\n'.join([str(linha) for linha in self.adj])\n",
        "\n",
        "    def adiciona_aresta(self, n1, n2, peso=1, mao_dupla=True):\n",
        "        self.adj[n1].append((n2, peso))\n",
        "\n",
        "        if mao_dupla:\n",
        "            self.adj[n2].append((n1, peso))\n",
        "\n",
        "    def obter_vizinhos(self, n):\n",
        "        return self.adj[n]\n",
        "\n",
        "    def __visitar(self, no):\n",
        "        self.__visitado[no] = 1\n",
        "        self.ordem_visitados.append(no)\n",
        "\n",
        "    def __dfs(self, n):\n",
        "        self.__visitar(n)\n",
        "        for vizinho, peso in self.obter_vizinhos(n):\n",
        "            if self.__visitado[vizinho] == 0:\n",
        "                self.__dfs(vizinho)\n",
        "\n",
        "    def DFS(self, n):\n",
        "        self.__visitado = [0] * len(self.adj)\n",
        "        self.ordem_visitados = []\n",
        "        self.__dfs(n)\n",
        "        return self.ordem_visitados\n",
        "\n",
        "    def BFS(self, n):\n",
        "        self.__visitado = [0] * len(self.adj)\n",
        "        self.ordem_visitados = []\n",
        "        nao_visitados = []\n",
        "\n",
        "        self.__visitar(n)\n",
        "\n",
        "        while True:\n",
        "            for vizinho, peso in self.obter_vizinhos(n):\n",
        "                if self.__visitado[vizinho] == 0:\n",
        "                    nao_visitados.append(vizinho)\n",
        "                    self.__visitar(vizinho)\n",
        "            if not nao_visitados:\n",
        "                return self.ordem_visitados\n",
        "            n = nao_visitados.pop(0)\n",
        "\n",
        "    def _menor_caminho(self, primeiro_nivel, caminhos, limite, juntar):\n",
        "        nivel = 0\n",
        "        proximo_nivel = primeiro_nivel\n",
        "        while proximo_nivel and limite > nivel:\n",
        "            nivel_atual = proximo_nivel\n",
        "            proximo_nivel = []\n",
        "            for no in nivel_atual:\n",
        "                for vizinho, peso in self.obter_vizinhos(no):\n",
        "                    if vizinho not in caminhos:\n",
        "                        caminhos[vizinho] = juntar(caminhos[no], [(vizinho, peso)])\n",
        "                        proximo_nivel.append(vizinho)\n",
        "            nivel += 1\n",
        "        return caminhos\n",
        "\n",
        "\n",
        "    def menor_caminho(self, no, limite=None):\n",
        "        def juntar(p1, p2):\n",
        "            return p1 + p2\n",
        "\n",
        "        if limite is None:\n",
        "            limite = float(\"inf\")\n",
        "        proximo_nivel = [no]\n",
        "        caminhos = {no: [(no, 0)]}\n",
        "        return dict(self._menor_caminho(proximo_nivel, caminhos, limite, juntar))\n",
        "\n",
        "\n",
        "    def imprimir_caminhos_menor_caminho(self, caminhos):\n",
        "        for destino, caminho in caminhos.items():\n",
        "            peso_total = 0\n",
        "            for _, peso in caminho:\n",
        "                peso_total += peso\n",
        "            print(f'\\tno destino: {destino}', f'\\tpeso total do caminho: {peso_total}',\n",
        "                  f'\\tcaminho: {caminho}')"
      ]
    },
    {
      "cell_type": "markdown",
      "metadata": {
        "id": "kNCd3Wv7whpj"
      },
      "source": [
        "<img src=https://objectstorage.us-ashburn-1.oraclecloud.com/n/ida8x1uljntv/b/graph_images_ada/o/grafo_com_peso.png width=500>"
      ]
    },
    {
      "cell_type": "code",
      "execution_count": 12,
      "metadata": {
        "id": "XYgWbGPKkWKb"
      },
      "outputs": [
        {
          "name": "stdout",
          "output_type": "stream",
          "text": [
            "menor caminho\n",
            "\tno destino: 1 \tpeso total do caminho: 0 \tcaminho: [(1, 0)]\n",
            "\tno destino: 3 \tpeso total do caminho: 4 \tcaminho: [(1, 0), (3, 4)]\n",
            "\tno destino: 2 \tpeso total do caminho: 7 \tcaminho: [(1, 0), (3, 4), (2, 3)]\n",
            "\tno destino: 4 \tpeso total do caminho: 11 \tcaminho: [(1, 0), (3, 4), (4, 7)]\n",
            "\tno destino: 5 \tpeso total do caminho: 9 \tcaminho: [(1, 0), (3, 4), (2, 3), (5, 2)]\n",
            "\tno destino: 6 \tpeso total do caminho: 20 \tcaminho: [(1, 0), (3, 4), (4, 7), (6, 9)]\n",
            "\n"
          ]
        }
      ],
      "source": [
        "# Teste do algoritmo na nova classe\n",
        "\n",
        "g3 = GrafoLAComPesos(7)\n",
        "g3.adiciona_aresta(0, 0) ## Ignorar esse nó, que não tem ligação com ninguém. Não está na imagem, e não vai ter caminho.\n",
        "g3.adiciona_aresta(1, 3, 4)\n",
        "g3.adiciona_aresta(3, 2, 3)\n",
        "g3.adiciona_aresta(3, 4, 7)\n",
        "g3.adiciona_aresta(2, 5, 2)\n",
        "g3.adiciona_aresta(5, 5)\n",
        "g3.adiciona_aresta(5, 6, 6)\n",
        "g3.adiciona_aresta(4, 5, 2)\n",
        "g3.adiciona_aresta(4, 6, 9)\n",
        "# print(g3, \"\\n\")\n",
        "\n",
        "origem = 1\n",
        "\n",
        "print('menor caminho')\n",
        "caminhos = g3.menor_caminho(origem)\n",
        "g3.imprimir_caminhos_menor_caminho(caminhos)\n",
        "print()"
      ]
    },
    {
      "cell_type": "markdown",
      "metadata": {
        "id": "bcJtegETkX7O"
      },
      "source": [
        "O algoritmo de menor caminho para grafos sem pesos considera o menor número de arestas. Contudo, após identificar o menor número, ele não \"recalcula\" com base nos pesos, ele ignora os pesos.\n",
        "\n",
        "Isso faz com que a menor quantidade de arestas seja a medida errada para identificar o menor caminho em um grafo com peso."
      ]
    },
    {
      "cell_type": "markdown",
      "metadata": {
        "id": "OMb6ClhdkbCt"
      },
      "source": [
        "## Algoritmo de Dijkstra\n",
        "\n",
        "link: https://www.codingame.com/playgrounds/1608/shortest-paths-with-dijkstras-algorithm/dijkstras-algorithm\n",
        "\n",
        "Aqui vamos utilizar o algoritmo de Dijkstra por ser um dos mais famosos.\n",
        "\n",
        "Este algoritmo calcula **a menor distância entre um nó e todos os outros nós no grafo**.\n",
        "\n",
        "Considere o grafo a seguir:\n",
        "\n",
        "<img src=\"https://www.codingame.com/servlet/fileservlet?id=14497257275137\" width=300>\n",
        "\n",
        "Vamos calcular o menor caminho entre o nó **C** e todos os outros nó do grafo!!\n",
        "\n",
        "Durante o algoritmo, vamos marcar todos os nós **com a menor distância entre este nó e o nó C**.\n",
        "\n",
        "A distância entre o nó C e ele mesmo é 0.\n",
        "\n",
        "Inicialmente, a distância entre todos os nós é $\\infty$. Já já vai ficar claro o porquê.\n",
        "\n",
        "A cada iteração, vamos também focar em um único nó, o **nó atual**, que será marcado por um ponto vermelho.\n",
        "\n",
        "<img src=\"https://www.codingame.com/servlet/fileservlet?id=14497265537633\" width=300>\n",
        "\n",
        "Nós vamos também criar listas para os menores caminhos! Isso vai permitir termos não somente o comprimento dos menores caminhos entre os nós e **C**, como também o caminho em si!\n",
        "\n",
        "Inicialmente, temos:\n",
        "\n",
        "```\n",
        "Caminho entre C e A = []\n",
        "Caminho entre C e B = []\n",
        "Caminho entre C e C = [C]\n",
        "Caminho entre C e D = []\n",
        "Caminho entre C e E = []\n",
        "```\n",
        "\n",
        "As listas serão alteradas toda vez que atualizarmos as distâncias mínimas, de modo que as listas finais expressarão o menor caminho!\n",
        "\n",
        "Vamos ver o passo a passo:\n",
        "\n",
        "### Nó atual: C\n",
        "\n",
        "<img src=\"https://www.codingame.com/servlet/fileservlet?id=14497279927597\" width=300>\n",
        "\n",
        "<img src=\"https://www.codingame.com/servlet/fileservlet?id=14497284902206\" width=300>\n",
        "\n",
        "<img src=\"https://www.codingame.com/servlet/fileservlet?id=14497297264677\" width=300>\n",
        "\n",
        "<img src=\"https://www.codingame.com/servlet/fileservlet?id=14497301316895\" width=300>\n",
        "\n",
        "```\n",
        "Caminho entre C e A = [C, A]\n",
        "Caminho entre C e B = [C, B]\n",
        "Caminho entre C e C = [C]\n",
        "Caminho entre C e D = [C, D]\n",
        "Caminho entre C e E = []\n",
        "```\n",
        "\n",
        "### Nó atual: A\n",
        "\n",
        "<img src=\"https://www.codingame.com/servlet/fileservlet?id=14497311165233\" width=300>\n",
        "\n",
        "<img src=\"https://www.codingame.com/servlet/fileservlet?id=14497327460640\" width=300>\n",
        "\n",
        "```\n",
        "Caminho entre C e A = [C, A]\n",
        "Caminho entre C e B = [C, A, B]\n",
        "Caminho entre C e C = [C]\n",
        "Caminho entre C e D = [C, D]\n",
        "Caminho entre C e E = []\n",
        "```\n",
        "\n",
        "### Nó atual: D\n",
        "\n",
        "<img src=\"https://www.codingame.com/servlet/fileservlet?id=14497330975308\" width=300>\n",
        "\n",
        "```\n",
        "Caminho entre C e A = [C, A]\n",
        "Caminho entre C e B = [C, A, B]\n",
        "Caminho entre C e C = [C]\n",
        "Caminho entre C e D = [C, D]\n",
        "Caminho entre C e E = [C, D, E]\n",
        "```\n",
        "\n",
        "### Nó atual: B\n",
        "\n",
        "<img src=\"https://www.codingame.com/servlet/fileservlet?id=14497346742885\" width=300>\n",
        "\n",
        "```\n",
        "Caminho entre C e A = [C, A]\n",
        "Caminho entre C e B = [C, A, B]\n",
        "Caminho entre C e C = [C]\n",
        "Caminho entre C e D = [C, D]\n",
        "Caminho entre C e E = [(C, B), E] = [C, A, B, E]\n",
        "```\n",
        "\n",
        "### Nó atual: E\n",
        "\n",
        "<img src=\"https://www.codingame.com/servlet/fileservlet?id=14497350226741\" width=300>\n",
        "\n",
        "### FIM\n",
        "\n",
        "<img src=\"https://www.codingame.com/servlet/fileservlet?id=14497361633811\" width=300>\n",
        "\n",
        "```\n",
        "Caminho entre C e A = [C, A]\n",
        "Caminho entre C e B = [C, A, B]\n",
        "Caminho entre C e C = [C]\n",
        "Caminho entre C e D = [C, D]\n",
        "Caminho entre C e E = [C, A, B, E]\n",
        "```\n",
        "\n",
        "Esquematicamente, temos o algoritmo:\n",
        "\n",
        "\n",
        "- 1: Marque o nó de origem com distância zero, e os demais nós com distância $\\infty$\n",
        "\n",
        "- 2: Atribua aos nós não visitados a menor entre as distâncias atuais entre o nó C\n",
        "\n",
        "- 3: Para cada vizinho V do nó C: adicione a distância atual de C com o peso da aresta conectando C-V. Se for menor que a distância atual de N, mude a distância atual para este valor.\n",
        "\n",
        "- 4: Marque o nó atual C como visitado.\n",
        "\n",
        "- 5: Se ainda houver nós não visitados, volte para o passo 2."
      ]
    }
  ],
  "metadata": {
    "colab": {
      "provenance": []
    },
    "kernelspec": {
      "display_name": "Python 3",
      "language": "python",
      "name": "python3"
    },
    "language_info": {
      "codemirror_mode": {
        "name": "ipython",
        "version": 3
      },
      "file_extension": ".py",
      "mimetype": "text/x-python",
      "name": "python",
      "nbconvert_exporter": "python",
      "pygments_lexer": "ipython3",
      "version": "3.10.5"
    },
    "vscode": {
      "interpreter": {
        "hash": "42478136ef40f8edd3f4cf991c33cffcfc620a666d0dc328e82cc0ef4d7b2c04"
      }
    }
  },
  "nbformat": 4,
  "nbformat_minor": 0
}
