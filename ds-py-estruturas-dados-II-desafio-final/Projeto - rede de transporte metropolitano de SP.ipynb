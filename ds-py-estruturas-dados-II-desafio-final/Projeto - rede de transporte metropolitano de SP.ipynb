{
 "cells": [
  {
   "attachments": {},
   "cell_type": "markdown",
   "metadata": {},
   "source": [
    "# Projeto Módulo DS-PY-003 - Estrutura de dados 2\n",
    "\n",
    "**Data limite pra entrega: 12/02/2023**\n",
    "\n",
    "**Apresentação 13/02/2023**\n",
    "\n",
    "## Rede de transporte metropolitano SP\n",
    "\n",
    "Conforme conversamos em aula, o projeto deste módulo consiste em modelar a **rede de transporte metropolitano de SP** como um grafo!\n",
    "\n",
    "A rede a ser implementada é a que está [neste arquivo.](http://www.metro.sp.gov.br/pdf/mapa-da-rede-metro.pdf) O arquivo pdf está também na pasta do projeto!\n",
    "\n",
    "O arquivo `sp_transporte.csv` contém grande parte (se não todas) as estações da rede. Pode ser que algumas estejam faltando -- neste caso, vocês podem adicionar as estações que estão faltando ao arquivo.\n",
    "\n",
    "Este arquivo está sendo disponibilizado para auxiliar vocês. Mas os grupos são inteiramente livres para coletar dados de qualquer outra forma (com webscraping, por exemplo). Fiquem à vontade! Isso certamente produzirá um modelo bem mais realístico!\n",
    "\n",
    "Independente da forma como os dados forem coletados, uma coisa será super necessária: **estruturar os dados de maneira adequada** para que eles possam servir de input para o networkx para a montagem do grafo, **de maneira automática**. Não é proibido, mas eu desencorajo fortemente que vocês construam o grafo manualmente com o `.add_edge()`. A ideia é que vocês construam o grafo usando programação, a partir da leitura e estruturação dos dados no arquivo! Vocês são livres em como farão isso, pesquisem e usem a criatividade!\n",
    "\n",
    "____________\n"
   ]
  },
  {
   "attachments": {},
   "cell_type": "markdown",
   "metadata": {},
   "source": [
    "\n",
    "### Objetivo:\n",
    "\n",
    "O objetivo primário do projeto é que vocês construam **um único grafo** para a rede completa de transporte (CPTM, metrô, EMTU, etc.). Dica: construam sub-grafos, um pra cada linha, e depois façam a composição destes grafos para construir o grafo da rede completa. \n",
    "\n",
    "O grafo não precisa ser ponderado. Mas, **opcionalmente**, se vocês conseguirem encontrar dados e atribuir algum peso às conexões (tempo ou distância entre as estações, por exemplo), fiquem à vontade! \n",
    "\n",
    "____________"
   ]
  },
  {
   "attachments": {},
   "cell_type": "markdown",
   "metadata": {},
   "source": [
    "### Implementação\n",
    "\n",
    "1) Vocês devem criar uma função que liste todas as estações possíveis, para que o o usuário possa escolher qual a sua origem e qual o seu destino.\n",
    "&nbsp;\n",
    "\n",
    "2) Vocês também deverão criar uma função que recebe como argumento duas estações (origem e destino), e retorna **o melhor caminho** entre estas duas estações, explicitando qual é a rota que o usuário deve seguir! \n",
    "\n",
    "    Por exemplo:\n",
    "\n",
    "    ```\n",
    "    Origem: Trianon-Masp\n",
    "    Destino: Vergueiro\n",
    "\n",
    "    Rota:\n",
    "    - Pegue o metrô na estação Trianon-Masp (linha 2 - Verde), sentido Vila Prudente;\n",
    "    - Desembarque na estação Paraíso (2 estações);\n",
    "    - Faça baldeação da linha 2 - Verde para a linha 1 - Azul, na estação Paraíso;\n",
    "    - Pegue o metrô na estação Paraíso (linha 1 - Azul), sentido Tucuruvi;\n",
    "    - Desembarque na estação Vergueiro (1 estação);\n",
    "    - Você chegou a seu destino!\n",
    "    ```\n",
    "&nbsp;\n",
    "\n",
    "3) Vocês também devem criar uma função para visualizar o grafo, colorindo os sub-grafos de cores diferentes e com a legenda de cada linha para que seja possível distinguir eles visualmente.\n",
    "\n",
    "&nbsp;\n",
    "\n",
    "Essas funções devem ser integrada a uma interface de navegação (caso esta seja construída, pois é opcional) que seja de fácil utilização pelo usuário (pode ser do tipo print/input, mas quem quiser construir uma interface gráfica, fique à vontade!).\n",
    "\n",
    "**Obs:** Caso optem por não construir suas próprias interfaces de navegação, podem utilizar o programa fornecido como base `ds-py-estruturas-dados-menu-navegacao-desafio-final.ipynb` para o trabalho.\n",
    "\n",
    "&nbsp;\n",
    "\n",
    "A ideia é que o projeto seja bem aberto, pra que vocês explorem maneiras diferentes de resolver o problema!\n",
    "\n",
    "Mas, pra ajudar a direcionar um pouco mais o trabalho, listei abaixo algumas orientações mais específicas sobre entregáveis\n",
    "\n",
    "____________"
   ]
  },
  {
   "attachments": {},
   "cell_type": "markdown",
   "metadata": {},
   "source": [
    "### Checklist\n",
    "\n",
    "Obrigatórios\n",
    "- Estruturação dos dados para que eles sejam usados na construção do grafo;\n",
    "- Um grafo completo para toda a rede de transporte metropolitano de SP;\n",
    "- Uma função que liste todas as estações (para que eu possa escolher qual a minha origem e qual meu destino)\n",
    "- Uma função que encontre o melhor caminho entre dois nós;\n",
    "- Uma função que descreva a rota do melhor caminho entre dois nós;\n",
    "- Uma função para visualização do grafo, com cores diferentes para cada linha do metrô;\n",
    "\n",
    "Opcionais (por ordem de prioridade):\n",
    "- Uma interface de navegação para interação com usuário;\n",
    "- Atribuição de pesos às conexões do grafo (tempo entre estações, distância, etc);\n",
    "- Captura dos dados por webscraping ou outra ferramenta;"
   ]
  },
  {
   "cell_type": "markdown",
   "metadata": {},
   "source": [
    "_______"
   ]
  }
 ],
 "metadata": {
  "kernelspec": {
   "display_name": "Python 3",
   "language": "python",
   "name": "python3"
  },
  "language_info": {
   "codemirror_mode": {
    "name": "ipython",
    "version": 3
   },
   "file_extension": ".py",
   "mimetype": "text/x-python",
   "name": "python",
   "nbconvert_exporter": "python",
   "pygments_lexer": "ipython3",
   "version": "3.10.5 (tags/v3.10.5:f377153, Jun  6 2022, 16:14:13) [MSC v.1929 64 bit (AMD64)]"
  },
  "vscode": {
   "interpreter": {
    "hash": "42478136ef40f8edd3f4cf991c33cffcfc620a666d0dc328e82cc0ef4d7b2c04"
   }
  }
 },
 "nbformat": 4,
 "nbformat_minor": 4
}
